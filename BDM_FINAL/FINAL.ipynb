{
 "cells": [
  {
   "cell_type": "markdown",
   "metadata": {},
   "source": [
    "# National Taipei University of Technology\n",
    "## Big Data Mining and Applications, Fall 2019\n",
    "### FINAL PROJECT: Analyzing Student Performance Records\n",
    "\n",
    "Team Members: Jason King (陳福國), Mao Zhi Heng (毛智恆)<br>\n",
    "ID: 105590051, 106AEA002"
   ]
  },
  {
   "cell_type": "code",
   "execution_count": 1,
   "metadata": {},
   "outputs": [],
   "source": [
    "from pyspark import SparkContext\n",
    "from pyspark.sql import *\n",
    "from pyspark.sql.types import *\n",
    "from pyspark.sql.functions import *\n",
    "from itertools import islice\n",
    "import timeit as t\n",
    "import numpy as np\n",
    "import re\n",
    "\n",
    "def percent(x, y):  # calculates percentage\n",
    "    perc = str(np.round(x*100/y, decimals=2))\n",
    "    return perc + \"%\"\n",
    "\n",
    "sc = SparkContext.getOrCreate()\n",
    "spark = SparkSession(sc)"
   ]
  },
  {
   "cell_type": "code",
   "execution_count": 2,
   "metadata": {},
   "outputs": [
    {
     "data": {
      "text/html": [
       "\n",
       "        <div>\n",
       "            <p><b>SparkContext</b></p>\n",
       "\n",
       "            <p><a href=\"http://CSIE-4-1:4040\">Spark UI</a></p>\n",
       "\n",
       "            <dl>\n",
       "              <dt>Version</dt>\n",
       "                <dd><code>v2.4.4</code></dd>\n",
       "              <dt>Master</dt>\n",
       "                <dd><code>local[*]</code></dd>\n",
       "              <dt>AppName</dt>\n",
       "                <dd><code>pyspark-shell</code></dd>\n",
       "            </dl>\n",
       "        </div>\n",
       "        "
      ],
      "text/plain": [
       "<SparkContext master=local[*] appName=pyspark-shell>"
      ]
     },
     "execution_count": 2,
     "metadata": {},
     "output_type": "execute_result"
    }
   ],
   "source": [
    "sc"
   ]
  },
  {
   "cell_type": "markdown",
   "metadata": {},
   "source": [
    "## Part 0: Initialization\n",
    "\n",
    "Preparation of data"
   ]
  },
  {
   "cell_type": "markdown",
   "metadata": {},
   "source": [
    "### Loading the CSV into RDD\n",
    "\n",
    "Note: To not complicate stuff, we will just work on the Portuguese dataset."
   ]
  },
  {
   "cell_type": "code",
   "execution_count": 3,
   "metadata": {},
   "outputs": [],
   "source": [
    "d = sc.textFile('student-por.csv').map(lambda k: k.split(\";\")).mapPartitionsWithIndex(lambda idx, it: islice(it, 1, None) if idx == 0 else it)\n",
    "\n",
    "# for boolean values, we try to enumerate the values where neccessary\n",
    "# everything is 0 and 1 for no and yes, respectively, unless specified otherwise\n",
    "\n",
    "def chk(x): # yes/no\n",
    "    if \"yes\" in x:\n",
    "        return 1\n",
    "    else:\n",
    "        return 0\n",
    "\n",
    "# UNUSED\n",
    "def school_chk(x): # checks school data (x[0])\n",
    "    if x == \"GP\": # Gabriel Pereira\n",
    "        return 1\n",
    "    return 2     # Mousinho da Silveira\n",
    "\n",
    "def group_grades(x): # groups grades into four tiers\n",
    "    if x>=17:\n",
    "        return 3 # high pass\n",
    "    if x>=13:\n",
    "        return 2 # medium pass\n",
    "    if x>=10:\n",
    "        return 1 # low pass\n",
    "    return 0     # fail\n",
    "\n",
    "def cleandata(data):\n",
    "    # data[0] = school_chk(data[0])\n",
    "    data[2] = int(data[2])\n",
    "    data[3] = re.sub('\\\"', '', data[3])\n",
    "    data[5] = re.sub('\\\"', '', data[5])\n",
    "    data[6] = int(data[6])\n",
    "    data[7] = int(data[7])\n",
    "    data[12] = int(data[12])\n",
    "    data[13] = int(data[13])\n",
    "    data[14] = int(data[14])\n",
    "    for i in range(15, 23):\n",
    "        data[i] = chk(data[i])\n",
    "    for i in range(23, 33):\n",
    "        data[i] = re.sub('\\\"', '', data[i])\n",
    "        data[i] = int(data[i])\n",
    "    for i in range(30, 33):\n",
    "        data[i] = group_grades(data[i])\n",
    "    return data\n",
    "    \n",
    "data = d.map(lambda x: cleandata(x))"
   ]
  },
  {
   "cell_type": "code",
   "execution_count": 4,
   "metadata": {},
   "outputs": [
    {
     "data": {
      "text/plain": [
       "[['\"GP\"',\n",
       "  '\"F\"',\n",
       "  18,\n",
       "  'U',\n",
       "  '\"GT3\"',\n",
       "  'A',\n",
       "  4,\n",
       "  4,\n",
       "  '\"at_home\"',\n",
       "  '\"teacher\"',\n",
       "  '\"course\"',\n",
       "  '\"mother\"',\n",
       "  2,\n",
       "  2,\n",
       "  0,\n",
       "  1,\n",
       "  0,\n",
       "  0,\n",
       "  0,\n",
       "  1,\n",
       "  1,\n",
       "  0,\n",
       "  0,\n",
       "  4,\n",
       "  3,\n",
       "  4,\n",
       "  1,\n",
       "  1,\n",
       "  3,\n",
       "  4,\n",
       "  0,\n",
       "  1,\n",
       "  1],\n",
       " ['\"GP\"',\n",
       "  '\"F\"',\n",
       "  17,\n",
       "  'U',\n",
       "  '\"GT3\"',\n",
       "  'T',\n",
       "  1,\n",
       "  1,\n",
       "  '\"at_home\"',\n",
       "  '\"other\"',\n",
       "  '\"course\"',\n",
       "  '\"father\"',\n",
       "  1,\n",
       "  2,\n",
       "  0,\n",
       "  0,\n",
       "  1,\n",
       "  0,\n",
       "  0,\n",
       "  0,\n",
       "  1,\n",
       "  1,\n",
       "  0,\n",
       "  5,\n",
       "  3,\n",
       "  3,\n",
       "  1,\n",
       "  1,\n",
       "  3,\n",
       "  2,\n",
       "  0,\n",
       "  1,\n",
       "  1],\n",
       " ['\"GP\"',\n",
       "  '\"F\"',\n",
       "  15,\n",
       "  'U',\n",
       "  '\"LE3\"',\n",
       "  'T',\n",
       "  1,\n",
       "  1,\n",
       "  '\"at_home\"',\n",
       "  '\"other\"',\n",
       "  '\"other\"',\n",
       "  '\"mother\"',\n",
       "  1,\n",
       "  2,\n",
       "  0,\n",
       "  1,\n",
       "  0,\n",
       "  0,\n",
       "  0,\n",
       "  1,\n",
       "  1,\n",
       "  1,\n",
       "  0,\n",
       "  4,\n",
       "  3,\n",
       "  2,\n",
       "  2,\n",
       "  3,\n",
       "  3,\n",
       "  6,\n",
       "  1,\n",
       "  2,\n",
       "  1]]"
      ]
     },
     "execution_count": 4,
     "metadata": {},
     "output_type": "execute_result"
    }
   ],
   "source": [
    "data.take(3)"
   ]
  },
  {
   "cell_type": "markdown",
   "metadata": {},
   "source": [
    "### Assumptions\n",
    "\n",
    "* Both schools use the same curriculum, use the same teaching materials, and the exams are set at the same difficulty level.\n",
    "* The students' habits remain the same throughout the academic year."
   ]
  },
  {
   "cell_type": "markdown",
   "metadata": {},
   "source": [
    "## Execution Script"
   ]
  },
  {
   "cell_type": "code",
   "execution_count": 5,
   "metadata": {},
   "outputs": [],
   "source": [
    "from operator import add\n",
    "\n",
    "def key(x):\n",
    "    if x==0:\n",
    "        return \"Failed\"\n",
    "    elif x==1:\n",
    "        return \"Low Pass\"\n",
    "    elif x==2:\n",
    "        return \"Med Pass\"\n",
    "    return \"High Pass\"\n",
    "\n",
    "def run(data, tar, c):\n",
    "    h = data.map(lambda x: (x[tar], 1)).reduceByKey(lambda a, b: a + b).sortByKey()\n",
    "    p = h.map(lambda x: [key(x[0]), x[1], percent(x[1], c)])\n",
    "     \n",
    "    print(\"For G\", tar, \", number of students having...\", sep='')\n",
    "    print(p.collect())\n",
    "    \n",
    "    # trying to use a points approach -- 3 points for high pass, 2 points for med pass, and 1 point for low pass\n",
    "    points = h.map(lambda x: x[0]*x[1]).reduce(add)\n",
    "    average = np.round(points/c, 2)\n",
    "    return points, average\n",
    "\n",
    "def splitdata(data, count):\n",
    "    if count!=0:\n",
    "        pg1, ag1 = run(data, 1, count)\n",
    "        pg2, ag2 = run(data, 2, count)\n",
    "        pg3, ag3 = run(data, 3, count)\n",
    "\n",
    "        columns = [\"G1 points\", \"G2 points\", \"G3 points\"]\n",
    "        sc.parallelize([Row(pg1, pg2, pg3)]).toDF(columns).show()\n",
    "\n",
    "        columns = [\"G1 average\", \"G2 average\", \"G3 average\"]\n",
    "        sc.parallelize([Row(str(ag1), str(ag2), str(ag3))]).toDF(columns).show()\n",
    "    else:\n",
    "        print(\"No data in this category\")"
   ]
  },
  {
   "cell_type": "markdown",
   "metadata": {},
   "source": [
    "## Part 1: Home Location\n",
    "\n",
    "We will try to determine how a student's home location (urban/rural) affects a student's grades."
   ]
  },
  {
   "cell_type": "code",
   "execution_count": 6,
   "metadata": {},
   "outputs": [],
   "source": [
    "temp = data.map(lambda y: [y[i] for i in (3, 30, 31, 32)])\n",
    "urban = temp.filter(lambda x: x[0]==\"U\")\n",
    "rural = temp.filter(lambda x: x[0]==\"R\")"
   ]
  },
  {
   "cell_type": "code",
   "execution_count": 7,
   "metadata": {},
   "outputs": [
    {
     "name": "stdout",
     "output_type": "stream",
     "text": [
      "Number of students who live in the urban area: 452 (69.65%)\n",
      "\n",
      "For G1, number of students having...\n",
      "[['Failed', 91, '20.13%'], ['Low Pass', 191, '42.26%'], ['Med Pass', 150, '33.19%'], ['High Pass', 20, '4.42%']]\n",
      "For G2, number of students having...\n",
      "[['Failed', 86, '19.03%'], ['Low Pass', 191, '42.26%'], ['Med Pass', 149, '32.96%'], ['High Pass', 26, '5.75%']]\n",
      "For G3, number of students having...\n",
      "[['Failed', 56, '12.39%'], ['Low Pass', 179, '39.6%'], ['Med Pass', 183, '40.49%'], ['High Pass', 34, '7.52%']]\n",
      "+---------+---------+---------+\n",
      "|G1 points|G2 points|G3 points|\n",
      "+---------+---------+---------+\n",
      "|      551|      567|      647|\n",
      "+---------+---------+---------+\n",
      "\n",
      "+----------+----------+----------+\n",
      "|G1 average|G2 average|G3 average|\n",
      "+----------+----------+----------+\n",
      "|      1.22|      1.25|      1.43|\n",
      "+----------+----------+----------+\n",
      "\n"
     ]
    }
   ],
   "source": [
    "c = urban.count()\n",
    "print(\"Number of students who live in the urban area: \", c, \" (\", percent(c, data.count()), \")\", sep='')\n",
    "print()\n",
    "\n",
    "splitdata(urban, c)"
   ]
  },
  {
   "cell_type": "code",
   "execution_count": 8,
   "metadata": {
    "scrolled": true
   },
   "outputs": [
    {
     "name": "stdout",
     "output_type": "stream",
     "text": [
      "Number of students who live in the rural area: 197 (30.35%)\n",
      "\n",
      "For G1, number of students having...\n",
      "[['Failed', 66, '33.5%'], ['Low Pass', 77, '39.09%'], ['Med Pass', 50, '25.38%'], ['High Pass', 4, '2.03%']]\n",
      "For G2, number of students having...\n",
      "[['Failed', 59, '29.95%'], ['Low Pass', 81, '41.12%'], ['Med Pass', 48, '24.37%'], ['High Pass', 9, '4.57%']]\n",
      "For G3, number of students having...\n",
      "[['Failed', 44, '22.34%'], ['Low Pass', 94, '47.72%'], ['Med Pass', 47, '23.86%'], ['High Pass', 12, '6.09%']]\n",
      "+---------+---------+---------+\n",
      "|G1 points|G2 points|G3 points|\n",
      "+---------+---------+---------+\n",
      "|      189|      204|      224|\n",
      "+---------+---------+---------+\n",
      "\n",
      "+----------+----------+----------+\n",
      "|G1 average|G2 average|G3 average|\n",
      "+----------+----------+----------+\n",
      "|      0.96|      1.04|      1.14|\n",
      "+----------+----------+----------+\n",
      "\n"
     ]
    }
   ],
   "source": [
    "c = rural.count()\n",
    "print(\"Number of students who live in the rural area: \", c, \" (\", percent(c, data.count()), \")\", sep='')\n",
    "print()\n",
    "\n",
    "splitdata(rural, c)"
   ]
  },
  {
   "cell_type": "markdown",
   "metadata": {},
   "source": [
    "Students who live in the urban area perform better than students who live in the rural area.\n",
    "\n",
    "Possible reasons: There are more facilities that aid students in the urban area to learn -- for example: library, museum, etc."
   ]
  },
  {
   "cell_type": "markdown",
   "metadata": {},
   "source": [
    "## Part 2: Cohabitation Status\n",
    "\n",
    "We will try to determine how a student's cohabitation status (living together/apart) affects a student's grades."
   ]
  },
  {
   "cell_type": "code",
   "execution_count": 9,
   "metadata": {},
   "outputs": [],
   "source": [
    "temp = data.map(lambda y: [y[i] for i in (5, 30, 31, 32)])\n",
    "together = temp.filter(lambda x: x[0]==\"T\")\n",
    "apart = temp.filter(lambda x: x[0]==\"A\")"
   ]
  },
  {
   "cell_type": "code",
   "execution_count": 10,
   "metadata": {},
   "outputs": [
    {
     "name": "stdout",
     "output_type": "stream",
     "text": [
      "Number of students who live together with parents: 569 (87.67%)\n",
      "\n",
      "For G1, number of students having...\n",
      "[['Failed', 140, '24.6%'], ['Low Pass', 232, '40.77%'], ['Med Pass', 174, '30.58%'], ['High Pass', 23, '4.04%']]\n",
      "For G2, number of students having...\n",
      "[['Failed', 126, '22.14%'], ['Low Pass', 243, '42.71%'], ['Med Pass', 168, '29.53%'], ['High Pass', 32, '5.62%']]\n",
      "For G3, number of students having...\n",
      "[['Failed', 88, '15.47%'], ['Low Pass', 241, '42.36%'], ['Med Pass', 199, '34.97%'], ['High Pass', 41, '7.21%']]\n",
      "+---------+---------+---------+\n",
      "|G1 points|G2 points|G3 points|\n",
      "+---------+---------+---------+\n",
      "|      649|      675|      762|\n",
      "+---------+---------+---------+\n",
      "\n",
      "+----------+----------+----------+\n",
      "|G1 average|G2 average|G3 average|\n",
      "+----------+----------+----------+\n",
      "|      1.14|      1.19|      1.34|\n",
      "+----------+----------+----------+\n",
      "\n"
     ]
    }
   ],
   "source": [
    "c = together.count()\n",
    "print(\"Number of students who live together with parents: \", c, \" (\", percent(c, data.count()), \")\", sep='')\n",
    "print()\n",
    "\n",
    "splitdata(together, c)"
   ]
  },
  {
   "cell_type": "code",
   "execution_count": 11,
   "metadata": {
    "scrolled": true
   },
   "outputs": [
    {
     "name": "stdout",
     "output_type": "stream",
     "text": [
      "Number of students who live separate from parents: 80 (12.33%)\n",
      "\n",
      "For G1, number of students having...\n",
      "[['Failed', 17, '21.25%'], ['Low Pass', 36, '45.0%'], ['Med Pass', 26, '32.5%'], ['High Pass', 1, '1.25%']]\n",
      "For G2, number of students having...\n",
      "[['Failed', 19, '23.75%'], ['Low Pass', 29, '36.25%'], ['Med Pass', 29, '36.25%'], ['High Pass', 3, '3.75%']]\n",
      "For G3, number of students having...\n",
      "[['Failed', 12, '15.0%'], ['Low Pass', 32, '40.0%'], ['Med Pass', 31, '38.75%'], ['High Pass', 5, '6.25%']]\n",
      "+---------+---------+---------+\n",
      "|G1 points|G2 points|G3 points|\n",
      "+---------+---------+---------+\n",
      "|       91|       96|      109|\n",
      "+---------+---------+---------+\n",
      "\n",
      "+----------+----------+----------+\n",
      "|G1 average|G2 average|G3 average|\n",
      "+----------+----------+----------+\n",
      "|      1.14|       1.2|      1.36|\n",
      "+----------+----------+----------+\n",
      "\n"
     ]
    }
   ],
   "source": [
    "c = apart.count()\n",
    "print(\"Number of students who live separate from parents: \", c, \" (\", percent(c, data.count()), \")\", sep='')\n",
    "print()\n",
    "\n",
    "splitdata(apart, c)"
   ]
  },
  {
   "cell_type": "markdown",
   "metadata": {},
   "source": [
    "Since the difference on average is very small, we do not think a student's cohabitation status will affect a student's grades."
   ]
  },
  {
   "cell_type": "markdown",
   "metadata": {},
   "source": [
    "## Part 3: Travel Time\n",
    "\n",
    "We will try to determine how a student's travel time from home to school affects a student's grades."
   ]
  },
  {
   "cell_type": "code",
   "execution_count": 12,
   "metadata": {},
   "outputs": [],
   "source": [
    "temp = data.map(lambda y: [y[i] for i in (12, 30, 31, 32)])\n",
    "near = temp.filter(lambda x: x[0]==1) # < 15 min\n",
    "midd = temp.filter(lambda x: x[0]==2) # 15~30 min\n",
    "farr = temp.filter(lambda x: x[0]==3) # 30~60 min\n",
    "vfar = temp.filter(lambda x: x[0]==4) # > 60 min"
   ]
  },
  {
   "cell_type": "code",
   "execution_count": 13,
   "metadata": {},
   "outputs": [
    {
     "name": "stdout",
     "output_type": "stream",
     "text": [
      "Number of students whose travel time from school to home is <15 min: 366 (56.39%)\n",
      "\n",
      "For G1, number of students having...\n",
      "[['Failed', 71, '19.4%'], ['Low Pass', 148, '40.44%'], ['Med Pass', 130, '35.52%'], ['High Pass', 17, '4.64%']]\n",
      "For G2, number of students having...\n",
      "[['Failed', 69, '18.85%'], ['Low Pass', 149, '40.71%'], ['Med Pass', 127, '34.7%'], ['High Pass', 21, '5.74%']]\n",
      "For G3, number of students having...\n",
      "[['Failed', 51, '13.93%'], ['Low Pass', 140, '38.25%'], ['Med Pass', 143, '39.07%'], ['High Pass', 32, '8.74%']]\n",
      "+---------+---------+---------+\n",
      "|G1 points|G2 points|G3 points|\n",
      "+---------+---------+---------+\n",
      "|      459|      466|      522|\n",
      "+---------+---------+---------+\n",
      "\n",
      "+----------+----------+----------+\n",
      "|G1 average|G2 average|G3 average|\n",
      "+----------+----------+----------+\n",
      "|      1.25|      1.27|      1.43|\n",
      "+----------+----------+----------+\n",
      "\n"
     ]
    }
   ],
   "source": [
    "c = near.count()\n",
    "print(\"Number of students whose travel time from school to home is <15 min: \", c, \" (\", percent(c, data.count()), \")\", sep='')\n",
    "print()\n",
    "\n",
    "splitdata(near, c)"
   ]
  },
  {
   "cell_type": "code",
   "execution_count": 14,
   "metadata": {
    "scrolled": true
   },
   "outputs": [
    {
     "name": "stdout",
     "output_type": "stream",
     "text": [
      "Number of students whose travel time from school to home is 15 min~30 min: 213 (32.82%)\n",
      "\n",
      "For G1, number of students having...\n",
      "[['Failed', 60, '28.17%'], ['Low Pass', 92, '43.19%'], ['Med Pass', 54, '25.35%'], ['High Pass', 7, '3.29%']]\n",
      "For G2, number of students having...\n",
      "[['Failed', 53, '24.88%'], ['Low Pass', 92, '43.19%'], ['Med Pass', 55, '25.82%'], ['High Pass', 13, '6.1%']]\n",
      "For G3, number of students having...\n",
      "[['Failed', 34, '15.96%'], ['Low Pass', 100, '46.95%'], ['Med Pass', 66, '30.99%'], ['High Pass', 13, '6.1%']]\n",
      "+---------+---------+---------+\n",
      "|G1 points|G2 points|G3 points|\n",
      "+---------+---------+---------+\n",
      "|      221|      241|      271|\n",
      "+---------+---------+---------+\n",
      "\n",
      "+----------+----------+----------+\n",
      "|G1 average|G2 average|G3 average|\n",
      "+----------+----------+----------+\n",
      "|      1.04|      1.13|      1.27|\n",
      "+----------+----------+----------+\n",
      "\n"
     ]
    }
   ],
   "source": [
    "c = midd.count()\n",
    "print(\"Number of students whose travel time from school to home is 15 min~30 min: \", c, \" (\", percent(c, data.count()), \")\", sep='')\n",
    "print()\n",
    "\n",
    "splitdata(midd, c)"
   ]
  },
  {
   "cell_type": "code",
   "execution_count": 15,
   "metadata": {
    "scrolled": true
   },
   "outputs": [
    {
     "name": "stdout",
     "output_type": "stream",
     "text": [
      "Number of students whose travel time from school to home is 30 min~60 min: 54 (8.32%)\n",
      "\n",
      "For G1, number of students having...\n",
      "[['Failed', 21, '38.89%'], ['Low Pass', 19, '35.19%'], ['Med Pass', 14, '25.93%']]\n",
      "For G2, number of students having...\n",
      "[['Failed', 16, '29.63%'], ['Low Pass', 23, '42.59%'], ['Med Pass', 14, '25.93%'], ['High Pass', 1, '1.85%']]\n",
      "For G3, number of students having...\n",
      "[['Failed', 12, '22.22%'], ['Low Pass', 23, '42.59%'], ['Med Pass', 18, '33.33%'], ['High Pass', 1, '1.85%']]\n",
      "+---------+---------+---------+\n",
      "|G1 points|G2 points|G3 points|\n",
      "+---------+---------+---------+\n",
      "|       47|       54|       62|\n",
      "+---------+---------+---------+\n",
      "\n",
      "+----------+----------+----------+\n",
      "|G1 average|G2 average|G3 average|\n",
      "+----------+----------+----------+\n",
      "|      0.87|       1.0|      1.15|\n",
      "+----------+----------+----------+\n",
      "\n"
     ]
    }
   ],
   "source": [
    "c = farr.count()\n",
    "print(\"Number of students whose travel time from school to home is 30 min~60 min: \", c, \" (\", percent(c, data.count()), \")\", sep='')\n",
    "print()\n",
    "\n",
    "splitdata(farr, c)"
   ]
  },
  {
   "cell_type": "code",
   "execution_count": 16,
   "metadata": {
    "scrolled": true
   },
   "outputs": [
    {
     "name": "stdout",
     "output_type": "stream",
     "text": [
      "Number of students whose travel time from school to home is over 60 min: 16 (2.47%)\n",
      "\n",
      "For G1, number of students having...\n",
      "[['Failed', 5, '31.25%'], ['Low Pass', 9, '56.25%'], ['Med Pass', 2, '12.5%']]\n",
      "For G2, number of students having...\n",
      "[['Failed', 7, '43.75%'], ['Low Pass', 8, '50.0%'], ['Med Pass', 1, '6.25%']]\n",
      "For G3, number of students having...\n",
      "[['Failed', 3, '18.75%'], ['Low Pass', 10, '62.5%'], ['Med Pass', 3, '18.75%']]\n",
      "+---------+---------+---------+\n",
      "|G1 points|G2 points|G3 points|\n",
      "+---------+---------+---------+\n",
      "|       13|       10|       16|\n",
      "+---------+---------+---------+\n",
      "\n",
      "+----------+----------+----------+\n",
      "|G1 average|G2 average|G3 average|\n",
      "+----------+----------+----------+\n",
      "|      0.81|      0.62|       1.0|\n",
      "+----------+----------+----------+\n",
      "\n"
     ]
    }
   ],
   "source": [
    "c = vfar.count()\n",
    "print(\"Number of students whose travel time from school to home is over 60 min: \", c, \" (\", percent(c, data.count()), \")\", sep='')\n",
    "print()\n",
    "\n",
    "splitdata(vfar, c)"
   ]
  },
  {
   "cell_type": "markdown",
   "metadata": {},
   "source": [
    "Students who live further from school have lower grades than those who live closer from school.\n",
    "\n",
    "Students who live further from school will have to spend lots of time on the road, and these students may feel tired once they reach home and there may not be enough time for them to revise. Not to mention if there are traffic jams or accidents!"
   ]
  },
  {
   "cell_type": "markdown",
   "metadata": {},
   "source": [
    "## Part 4: Weekly Study Time\n",
    "\n",
    "We will try to determine how a student's weekly study time affects a student's grades."
   ]
  },
  {
   "cell_type": "code",
   "execution_count": 17,
   "metadata": {},
   "outputs": [],
   "source": [
    "temp = data.map(lambda y: [y[i] for i in (13, 30, 31, 32)])\n",
    "tl = temp.filter(lambda x: x[0]==1) # < 2 hours\n",
    "tm = temp.filter(lambda x: x[0]==2) # 2-5 hours\n",
    "th = temp.filter(lambda x: x[0]==3) # 5~10 hours\n",
    "tv = temp.filter(lambda x: x[0]==4) # >10 hours"
   ]
  },
  {
   "cell_type": "code",
   "execution_count": 18,
   "metadata": {},
   "outputs": [
    {
     "name": "stdout",
     "output_type": "stream",
     "text": [
      "Number of students who spend less than 2 hours of study per week: 212 (32.67%)\n",
      "\n",
      "For G1, number of students having...\n",
      "[['Failed', 79, '37.26%'], ['Low Pass', 87, '41.04%'], ['Med Pass', 40, '18.87%'], ['High Pass', 6, '2.83%']]\n",
      "For G2, number of students having...\n",
      "[['Failed', 66, '31.13%'], ['Low Pass', 95, '44.81%'], ['Med Pass', 46, '21.7%'], ['High Pass', 5, '2.36%']]\n",
      "For G3, number of students having...\n",
      "[['Failed', 50, '23.58%'], ['Low Pass', 105, '49.53%'], ['Med Pass', 50, '23.58%'], ['High Pass', 7, '3.3%']]\n",
      "+---------+---------+---------+\n",
      "|G1 points|G2 points|G3 points|\n",
      "+---------+---------+---------+\n",
      "|      185|      202|      226|\n",
      "+---------+---------+---------+\n",
      "\n",
      "+----------+----------+----------+\n",
      "|G1 average|G2 average|G3 average|\n",
      "+----------+----------+----------+\n",
      "|      0.87|      0.95|      1.07|\n",
      "+----------+----------+----------+\n",
      "\n"
     ]
    }
   ],
   "source": [
    "c = tl.count()\n",
    "print(\"Number of students who spend less than 2 hours of study per week: \", c, \" (\", percent(c, data.count()), \")\", sep='')\n",
    "print()\n",
    "\n",
    "splitdata(tl, c)"
   ]
  },
  {
   "cell_type": "code",
   "execution_count": 19,
   "metadata": {
    "scrolled": true
   },
   "outputs": [
    {
     "name": "stdout",
     "output_type": "stream",
     "text": [
      "Number of students who spend 2 to 5 hours of study per week: 305 (47.0%)\n",
      "\n",
      "For G1, number of students having...\n",
      "[['Failed', 67, '21.97%'], ['Low Pass', 128, '41.97%'], ['Med Pass', 101, '33.11%'], ['High Pass', 9, '2.95%']]\n",
      "For G2, number of students having...\n",
      "[['Failed', 64, '20.98%'], ['Low Pass', 128, '41.97%'], ['Med Pass', 96, '31.48%'], ['High Pass', 17, '5.57%']]\n",
      "For G3, number of students having...\n",
      "[['Failed', 41, '13.44%'], ['Low Pass', 125, '40.98%'], ['Med Pass', 118, '38.69%'], ['High Pass', 21, '6.89%']]\n",
      "+---------+---------+---------+\n",
      "|G1 points|G2 points|G3 points|\n",
      "+---------+---------+---------+\n",
      "|      357|      371|      424|\n",
      "+---------+---------+---------+\n",
      "\n",
      "+----------+----------+----------+\n",
      "|G1 average|G2 average|G3 average|\n",
      "+----------+----------+----------+\n",
      "|      1.17|      1.22|      1.39|\n",
      "+----------+----------+----------+\n",
      "\n"
     ]
    }
   ],
   "source": [
    "c = tm.count()\n",
    "print(\"Number of students who spend 2 to 5 hours of study per week: \", c, \" (\", percent(c, data.count()), \")\", sep='')\n",
    "print()\n",
    "\n",
    "splitdata(tm, c)"
   ]
  },
  {
   "cell_type": "code",
   "execution_count": 20,
   "metadata": {
    "scrolled": true
   },
   "outputs": [
    {
     "name": "stdout",
     "output_type": "stream",
     "text": [
      "Number of students who spend 5 to 10 hours of study per week: 97 (14.95%)\n",
      "\n",
      "For G1, number of students having...\n",
      "[['Failed', 9, '9.28%'], ['Low Pass', 39, '40.21%'], ['Med Pass', 45, '46.39%'], ['High Pass', 4, '4.12%']]\n",
      "For G2, number of students having...\n",
      "[['Failed', 10, '10.31%'], ['Low Pass', 36, '37.11%'], ['Med Pass', 44, '45.36%'], ['High Pass', 7, '7.22%']]\n",
      "For G3, number of students having...\n",
      "[['Failed', 7, '7.22%'], ['Low Pass', 28, '28.87%'], ['Med Pass', 51, '52.58%'], ['High Pass', 11, '11.34%']]\n",
      "+---------+---------+---------+\n",
      "|G1 points|G2 points|G3 points|\n",
      "+---------+---------+---------+\n",
      "|      141|      145|      163|\n",
      "+---------+---------+---------+\n",
      "\n",
      "+----------+----------+----------+\n",
      "|G1 average|G2 average|G3 average|\n",
      "+----------+----------+----------+\n",
      "|      1.45|      1.49|      1.68|\n",
      "+----------+----------+----------+\n",
      "\n"
     ]
    }
   ],
   "source": [
    "c = th.count()\n",
    "print(\"Number of students who spend 5 to 10 hours of study per week: \", c, \" (\", percent(c, data.count()), \")\", sep='')\n",
    "print()\n",
    "\n",
    "splitdata(th, c)"
   ]
  },
  {
   "cell_type": "code",
   "execution_count": 21,
   "metadata": {
    "scrolled": false
   },
   "outputs": [
    {
     "name": "stdout",
     "output_type": "stream",
     "text": [
      "Number of students who spend more than 10 hours of study per week: 35 (5.39%)\n",
      "\n",
      "For G1, number of students having...\n",
      "[['Failed', 2, '5.71%'], ['Low Pass', 14, '40.0%'], ['Med Pass', 14, '40.0%'], ['High Pass', 5, '14.29%']]\n",
      "For G2, number of students having...\n",
      "[['Failed', 5, '14.29%'], ['Low Pass', 13, '37.14%'], ['Med Pass', 11, '31.43%'], ['High Pass', 6, '17.14%']]\n",
      "For G3, number of students having...\n",
      "[['Failed', 2, '5.71%'], ['Low Pass', 15, '42.86%'], ['Med Pass', 11, '31.43%'], ['High Pass', 7, '20.0%']]\n",
      "+---------+---------+---------+\n",
      "|G1 points|G2 points|G3 points|\n",
      "+---------+---------+---------+\n",
      "|       57|       53|       58|\n",
      "+---------+---------+---------+\n",
      "\n",
      "+----------+----------+----------+\n",
      "|G1 average|G2 average|G3 average|\n",
      "+----------+----------+----------+\n",
      "|      1.63|      1.51|      1.66|\n",
      "+----------+----------+----------+\n",
      "\n"
     ]
    }
   ],
   "source": [
    "c = tv.count()\n",
    "print(\"Number of students who spend more than 10 hours of study per week: \", c, \" (\", percent(c, data.count()), \")\", sep='')\n",
    "print()\n",
    "\n",
    "splitdata(tv, c)"
   ]
  },
  {
   "cell_type": "markdown",
   "metadata": {},
   "source": [
    "Although we do understand that there are some students who study less than two hours per week but score flying colors in the exams, it is pretty evident that the average of students who study for at least 5 hours per week is the highest."
   ]
  },
  {
   "cell_type": "markdown",
   "metadata": {},
   "source": [
    "## Part 5: Past Class Failures\n",
    "\n",
    "We will try to determine whether past class failures do motivate students to do better."
   ]
  },
  {
   "cell_type": "code",
   "execution_count": 22,
   "metadata": {},
   "outputs": [],
   "source": [
    "temp = data.map(lambda y: [y[i] for i in (14, 30, 31, 32)])\n",
    "f0 = temp.filter(lambda x: x[0]==0) # no class failures\n",
    "f1 = temp.filter(lambda x: x[0]==1) # 1 class failure\n",
    "f2 = temp.filter(lambda x: x[0]==2) # 2 class failures\n",
    "f3 = temp.filter(lambda x: x[0]==3) # 3 class failures"
   ]
  },
  {
   "cell_type": "code",
   "execution_count": 23,
   "metadata": {
    "scrolled": true
   },
   "outputs": [
    {
     "name": "stdout",
     "output_type": "stream",
     "text": [
      "Number of students who have had no class failures: 549 (84.59%)\n",
      "\n",
      "For G1, number of students having...\n",
      "[['Failed', 87, '15.85%'], ['Low Pass', 242, '44.08%'], ['Med Pass', 196, '35.7%'], ['High Pass', 24, '4.37%']]\n",
      "For G2, number of students having...\n",
      "[['Failed', 81, '14.75%'], ['Low Pass', 239, '43.53%'], ['Med Pass', 194, '35.34%'], ['High Pass', 35, '6.38%']]\n",
      "For G3, number of students having...\n",
      "[['Failed', 51, '9.29%'], ['Low Pass', 227, '41.35%'], ['Med Pass', 225, '40.98%'], ['High Pass', 46, '8.38%']]\n",
      "+---------+---------+---------+\n",
      "|G1 points|G2 points|G3 points|\n",
      "+---------+---------+---------+\n",
      "|      706|      732|      815|\n",
      "+---------+---------+---------+\n",
      "\n",
      "+----------+----------+----------+\n",
      "|G1 average|G2 average|G3 average|\n",
      "+----------+----------+----------+\n",
      "|      1.29|      1.33|      1.48|\n",
      "+----------+----------+----------+\n",
      "\n"
     ]
    }
   ],
   "source": [
    "c = f0.count()\n",
    "print(\"Number of students who have had no class failures: \", c, \" (\", percent(c, data.count()), \")\", sep='')\n",
    "print()\n",
    "\n",
    "splitdata(f0, c)"
   ]
  },
  {
   "cell_type": "code",
   "execution_count": 24,
   "metadata": {
    "scrolled": true
   },
   "outputs": [
    {
     "name": "stdout",
     "output_type": "stream",
     "text": [
      "Number of students who have had 1 class failure: 70 (10.79%)\n",
      "\n",
      "For G1, number of students having...\n",
      "[['Failed', 46, '65.71%'], ['Low Pass', 21, '30.0%'], ['Med Pass', 3, '4.29%']]\n",
      "For G2, number of students having...\n",
      "[['Failed', 41, '58.57%'], ['Low Pass', 27, '38.57%'], ['Med Pass', 2, '2.86%']]\n",
      "For G3, number of students having...\n",
      "[['Failed', 32, '45.71%'], ['Low Pass', 34, '48.57%'], ['Med Pass', 4, '5.71%']]\n",
      "+---------+---------+---------+\n",
      "|G1 points|G2 points|G3 points|\n",
      "+---------+---------+---------+\n",
      "|       27|       31|       42|\n",
      "+---------+---------+---------+\n",
      "\n",
      "+----------+----------+----------+\n",
      "|G1 average|G2 average|G3 average|\n",
      "+----------+----------+----------+\n",
      "|      0.39|      0.44|       0.6|\n",
      "+----------+----------+----------+\n",
      "\n"
     ]
    }
   ],
   "source": [
    "c = f1.count()\n",
    "print(\"Number of students who have had 1 class failure: \", c, \" (\", percent(c, data.count()), \")\", sep='')\n",
    "print()\n",
    "\n",
    "splitdata(f1, c)"
   ]
  },
  {
   "cell_type": "code",
   "execution_count": 25,
   "metadata": {
    "scrolled": true
   },
   "outputs": [
    {
     "name": "stdout",
     "output_type": "stream",
     "text": [
      "Number of students who have had 2 class failures: 16 (2.47%)\n",
      "\n",
      "For G1, number of students having...\n",
      "[['Failed', 13, '81.25%'], ['Low Pass', 2, '12.5%'], ['Med Pass', 1, '6.25%']]\n",
      "For G2, number of students having...\n",
      "[['Failed', 11, '68.75%'], ['Low Pass', 4, '25.0%'], ['Med Pass', 1, '6.25%']]\n",
      "For G3, number of students having...\n",
      "[['Failed', 8, '50.0%'], ['Low Pass', 7, '43.75%'], ['Med Pass', 1, '6.25%']]\n",
      "+---------+---------+---------+\n",
      "|G1 points|G2 points|G3 points|\n",
      "+---------+---------+---------+\n",
      "|        4|        6|        9|\n",
      "+---------+---------+---------+\n",
      "\n",
      "+----------+----------+----------+\n",
      "|G1 average|G2 average|G3 average|\n",
      "+----------+----------+----------+\n",
      "|      0.25|      0.38|      0.56|\n",
      "+----------+----------+----------+\n",
      "\n"
     ]
    }
   ],
   "source": [
    "c = f2.count()\n",
    "print(\"Number of students who have had 2 class failures: \", c, \" (\", percent(c, data.count()), \")\", sep='')\n",
    "print()\n",
    "\n",
    "splitdata(f2, c)"
   ]
  },
  {
   "cell_type": "code",
   "execution_count": 26,
   "metadata": {
    "scrolled": false
   },
   "outputs": [
    {
     "name": "stdout",
     "output_type": "stream",
     "text": [
      "Number of students who have had 3 class failures: 14 (2.16%)\n",
      "\n",
      "For G1, number of students having...\n",
      "[['Failed', 11, '78.57%'], ['Low Pass', 3, '21.43%']]\n",
      "For G2, number of students having...\n",
      "[['Failed', 12, '85.71%'], ['Low Pass', 2, '14.29%']]\n",
      "For G3, number of students having...\n",
      "[['Failed', 9, '64.29%'], ['Low Pass', 5, '35.71%']]\n",
      "+---------+---------+---------+\n",
      "|G1 points|G2 points|G3 points|\n",
      "+---------+---------+---------+\n",
      "|        3|        2|        5|\n",
      "+---------+---------+---------+\n",
      "\n",
      "+----------+----------+----------+\n",
      "|G1 average|G2 average|G3 average|\n",
      "+----------+----------+----------+\n",
      "|      0.21|      0.14|      0.36|\n",
      "+----------+----------+----------+\n",
      "\n"
     ]
    }
   ],
   "source": [
    "c = f3.count()\n",
    "print(\"Number of students who have had 3 class failures: \", c, \" (\", percent(c, data.count()), \")\", sep='')\n",
    "print()\n",
    "\n",
    "splitdata(f3, c)"
   ]
  },
  {
   "cell_type": "markdown",
   "metadata": {},
   "source": [
    "Students who have had class failures in the past definitely performed worse than those who have never had class failures.\n",
    "\n",
    "However, we can generally see a positive improvement on the grades from the first semester through the end of the academic year.\n",
    "\n",
    "Unfortunately, among students who have had 2 or 3 class failures, the number of students who still failed at the end of the academic year are still a majority."
   ]
  },
  {
   "cell_type": "markdown",
   "metadata": {},
   "source": [
    "## Part 6: School Educational Support\n",
    "\n",
    "We will try to determine whether school educational support does affect a student's grades."
   ]
  },
  {
   "cell_type": "code",
   "execution_count": 27,
   "metadata": {},
   "outputs": [],
   "source": [
    "temp = data.map(lambda y: [y[i] for i in (15, 30, 31, 32)])\n",
    "yes = temp.filter(lambda x: x[0]==1)\n",
    "no = temp.filter(lambda x: x[0]==0)"
   ]
  },
  {
   "cell_type": "code",
   "execution_count": 28,
   "metadata": {},
   "outputs": [
    {
     "name": "stdout",
     "output_type": "stream",
     "text": [
      "Number of students who receive school educational support: 68 (10.48%)\n",
      "\n",
      "For G1, number of students having...\n",
      "[['Failed', 18, '26.47%'], ['Low Pass', 31, '45.59%'], ['Med Pass', 18, '26.47%'], ['High Pass', 1, '1.47%']]\n",
      "For G2, number of students having...\n",
      "[['Failed', 14, '20.59%'], ['Low Pass', 36, '52.94%'], ['Med Pass', 17, '25.0%'], ['High Pass', 1, '1.47%']]\n",
      "For G3, number of students having...\n",
      "[['Failed', 8, '11.76%'], ['Low Pass', 40, '58.82%'], ['Med Pass', 19, '27.94%'], ['High Pass', 1, '1.47%']]\n",
      "+---------+---------+---------+\n",
      "|G1 points|G2 points|G3 points|\n",
      "+---------+---------+---------+\n",
      "|       70|       73|       81|\n",
      "+---------+---------+---------+\n",
      "\n",
      "+----------+----------+----------+\n",
      "|G1 average|G2 average|G3 average|\n",
      "+----------+----------+----------+\n",
      "|      1.03|      1.07|      1.19|\n",
      "+----------+----------+----------+\n",
      "\n"
     ]
    }
   ],
   "source": [
    "c = yes.count()\n",
    "print(\"Number of students who receive school educational support: \", c, \" (\", percent(c, data.count()), \")\", sep='')\n",
    "print()\n",
    "\n",
    "splitdata(yes, c)"
   ]
  },
  {
   "cell_type": "code",
   "execution_count": 29,
   "metadata": {
    "scrolled": true
   },
   "outputs": [
    {
     "name": "stdout",
     "output_type": "stream",
     "text": [
      "Number of students who do not receive school educational support: 581 (89.52%)\n",
      "\n",
      "For G1, number of students having...\n",
      "[['Failed', 139, '23.92%'], ['Low Pass', 237, '40.79%'], ['Med Pass', 182, '31.33%'], ['High Pass', 23, '3.96%']]\n",
      "For G2, number of students having...\n",
      "[['Failed', 131, '22.55%'], ['Low Pass', 236, '40.62%'], ['Med Pass', 180, '30.98%'], ['High Pass', 34, '5.85%']]\n",
      "For G3, number of students having...\n",
      "[['Failed', 92, '15.83%'], ['Low Pass', 233, '40.1%'], ['Med Pass', 211, '36.32%'], ['High Pass', 45, '7.75%']]\n",
      "+---------+---------+---------+\n",
      "|G1 points|G2 points|G3 points|\n",
      "+---------+---------+---------+\n",
      "|      670|      698|      790|\n",
      "+---------+---------+---------+\n",
      "\n",
      "+----------+----------+----------+\n",
      "|G1 average|G2 average|G3 average|\n",
      "+----------+----------+----------+\n",
      "|      1.15|       1.2|      1.36|\n",
      "+----------+----------+----------+\n",
      "\n"
     ]
    }
   ],
   "source": [
    "c = no.count()\n",
    "print(\"Number of students who do not receive school educational support: \", c, \" (\", percent(c, data.count()), \")\", sep='')\n",
    "print()\n",
    "\n",
    "splitdata(no, c)"
   ]
  },
  {
   "cell_type": "markdown",
   "metadata": {},
   "source": [
    "Students who receive school educational support score slightly lower than those who don't."
   ]
  },
  {
   "cell_type": "markdown",
   "metadata": {},
   "source": [
    "## Part 7: Family Educational Support\n",
    "\n",
    "We will try to determine whether family educational support does affect a student's grades."
   ]
  },
  {
   "cell_type": "code",
   "execution_count": 30,
   "metadata": {},
   "outputs": [],
   "source": [
    "temp = data.map(lambda y: [y[i] for i in (16, 30, 31, 32)])\n",
    "yes = temp.filter(lambda x: x[0]==1)\n",
    "no = temp.filter(lambda x: x[0]==0)"
   ]
  },
  {
   "cell_type": "code",
   "execution_count": 31,
   "metadata": {},
   "outputs": [
    {
     "name": "stdout",
     "output_type": "stream",
     "text": [
      "Number of students who receive family educational support: 398 (61.33%)\n",
      "\n",
      "For G1, number of students having...\n",
      "[['Failed', 89, '22.36%'], ['Low Pass', 173, '43.47%'], ['Med Pass', 121, '30.4%'], ['High Pass', 15, '3.77%']]\n",
      "For G2, number of students having...\n",
      "[['Failed', 81, '20.35%'], ['Low Pass', 178, '44.72%'], ['Med Pass', 116, '29.15%'], ['High Pass', 23, '5.78%']]\n",
      "For G3, number of students having...\n",
      "[['Failed', 57, '14.32%'], ['Low Pass', 168, '42.21%'], ['Med Pass', 144, '36.18%'], ['High Pass', 29, '7.29%']]\n",
      "+---------+---------+---------+\n",
      "|G1 points|G2 points|G3 points|\n",
      "+---------+---------+---------+\n",
      "|      460|      479|      543|\n",
      "+---------+---------+---------+\n",
      "\n",
      "+----------+----------+----------+\n",
      "|G1 average|G2 average|G3 average|\n",
      "+----------+----------+----------+\n",
      "|      1.16|       1.2|      1.36|\n",
      "+----------+----------+----------+\n",
      "\n"
     ]
    }
   ],
   "source": [
    "c = yes.count()\n",
    "print(\"Number of students who receive family educational support: \", c, \" (\", percent(c, data.count()), \")\", sep='')\n",
    "print()\n",
    "\n",
    "splitdata(yes, c)"
   ]
  },
  {
   "cell_type": "code",
   "execution_count": 32,
   "metadata": {
    "scrolled": true
   },
   "outputs": [
    {
     "name": "stdout",
     "output_type": "stream",
     "text": [
      "Number of students who do not receive family educational support: 251 (38.67%)\n",
      "\n",
      "For G1, number of students having...\n",
      "[['Failed', 68, '27.09%'], ['Low Pass', 95, '37.85%'], ['Med Pass', 79, '31.47%'], ['High Pass', 9, '3.59%']]\n",
      "For G2, number of students having...\n",
      "[['Failed', 64, '25.5%'], ['Low Pass', 94, '37.45%'], ['Med Pass', 81, '32.27%'], ['High Pass', 12, '4.78%']]\n",
      "For G3, number of students having...\n",
      "[['Failed', 43, '17.13%'], ['Low Pass', 105, '41.83%'], ['Med Pass', 86, '34.26%'], ['High Pass', 17, '6.77%']]\n",
      "+---------+---------+---------+\n",
      "|G1 points|G2 points|G3 points|\n",
      "+---------+---------+---------+\n",
      "|      280|      292|      328|\n",
      "+---------+---------+---------+\n",
      "\n",
      "+----------+----------+----------+\n",
      "|G1 average|G2 average|G3 average|\n",
      "+----------+----------+----------+\n",
      "|      1.12|      1.16|      1.31|\n",
      "+----------+----------+----------+\n",
      "\n"
     ]
    }
   ],
   "source": [
    "c = no.count()\n",
    "print(\"Number of students who do not receive family educational support: \", c, \" (\", percent(c, data.count()), \")\", sep='')\n",
    "print()\n",
    "\n",
    "splitdata(no, c)"
   ]
  },
  {
   "cell_type": "markdown",
   "metadata": {},
   "source": [
    "The gap on the average score among those who receive family educational support and those who don't are very small (no more than 0.05), so family educational support is not a significant factor."
   ]
  },
  {
   "cell_type": "markdown",
   "metadata": {},
   "source": [
    "## Part 8: Extra Paid Classes\n",
    "\n",
    "We will try to determine the influence of extra paid classes (e.g. attending cram schools (補習班)) on a student's grades."
   ]
  },
  {
   "cell_type": "code",
   "execution_count": 33,
   "metadata": {},
   "outputs": [],
   "source": [
    "temp = data.map(lambda y: [y[i] for i in (17, 30, 31, 32)])\n",
    "yes = temp.filter(lambda x: x[0]==1)\n",
    "no = temp.filter(lambda x: x[0]==0)"
   ]
  },
  {
   "cell_type": "code",
   "execution_count": 34,
   "metadata": {},
   "outputs": [
    {
     "name": "stdout",
     "output_type": "stream",
     "text": [
      "Number of students who take extra paid classes: 39 (6.01%)\n",
      "\n",
      "For G1, number of students having...\n",
      "[['Failed', 12, '30.77%'], ['Low Pass', 19, '48.72%'], ['Med Pass', 7, '17.95%'], ['High Pass', 1, '2.56%']]\n",
      "For G2, number of students having...\n",
      "[['Failed', 10, '25.64%'], ['Low Pass', 19, '48.72%'], ['Med Pass', 10, '25.64%']]\n",
      "For G3, number of students having...\n",
      "[['Failed', 9, '23.08%'], ['Low Pass', 18, '46.15%'], ['Med Pass', 12, '30.77%']]\n",
      "+---------+---------+---------+\n",
      "|G1 points|G2 points|G3 points|\n",
      "+---------+---------+---------+\n",
      "|       36|       39|       42|\n",
      "+---------+---------+---------+\n",
      "\n",
      "+----------+----------+----------+\n",
      "|G1 average|G2 average|G3 average|\n",
      "+----------+----------+----------+\n",
      "|      0.92|       1.0|      1.08|\n",
      "+----------+----------+----------+\n",
      "\n"
     ]
    }
   ],
   "source": [
    "c = yes.count()\n",
    "print(\"Number of students who take extra paid classes: \", c, \" (\", percent(c, data.count()), \")\", sep='')\n",
    "print()\n",
    "\n",
    "splitdata(yes, c)"
   ]
  },
  {
   "cell_type": "code",
   "execution_count": 35,
   "metadata": {
    "scrolled": true
   },
   "outputs": [
    {
     "name": "stdout",
     "output_type": "stream",
     "text": [
      "Number of students who do not take extra paid classes: 610 (93.99%)\n",
      "\n",
      "For G1, number of students having...\n",
      "[['Failed', 145, '23.77%'], ['Low Pass', 249, '40.82%'], ['Med Pass', 193, '31.64%'], ['High Pass', 23, '3.77%']]\n",
      "For G2, number of students having...\n",
      "[['Failed', 135, '22.13%'], ['Low Pass', 253, '41.48%'], ['Med Pass', 187, '30.66%'], ['High Pass', 35, '5.74%']]\n",
      "For G3, number of students having...\n",
      "[['Failed', 91, '14.92%'], ['Low Pass', 255, '41.8%'], ['Med Pass', 218, '35.74%'], ['High Pass', 46, '7.54%']]\n",
      "+---------+---------+---------+\n",
      "|G1 points|G2 points|G3 points|\n",
      "+---------+---------+---------+\n",
      "|      704|      732|      829|\n",
      "+---------+---------+---------+\n",
      "\n",
      "+----------+----------+----------+\n",
      "|G1 average|G2 average|G3 average|\n",
      "+----------+----------+----------+\n",
      "|      1.15|       1.2|      1.36|\n",
      "+----------+----------+----------+\n",
      "\n"
     ]
    }
   ],
   "source": [
    "c = no.count()\n",
    "print(\"Number of students who do not take extra paid classes: \", c, \" (\", percent(c, data.count()), \")\", sep='')\n",
    "print()\n",
    "\n",
    "splitdata(no, c)"
   ]
  },
  {
   "cell_type": "markdown",
   "metadata": {},
   "source": [
    "Students who do not take extra paid classes, surprisingly, performed better than those who take extra paid classes.\n",
    "\n",
    "Possible reasons: Students who take extra paid classes have learning difficulties."
   ]
  },
  {
   "cell_type": "markdown",
   "metadata": {},
   "source": [
    "## Part 9: Extracurricular Activities\n",
    "\n",
    "We will try to determine the influence of extracurricular activities on a student's grades."
   ]
  },
  {
   "cell_type": "code",
   "execution_count": 36,
   "metadata": {},
   "outputs": [],
   "source": [
    "temp = data.map(lambda y: [y[i] for i in (18, 30, 31, 32)])\n",
    "yes = temp.filter(lambda x: x[0]==1)\n",
    "no = temp.filter(lambda x: x[0]==0)"
   ]
  },
  {
   "cell_type": "code",
   "execution_count": 37,
   "metadata": {},
   "outputs": [
    {
     "name": "stdout",
     "output_type": "stream",
     "text": [
      "Number of students who take extracurricular activities: 315 (48.54%)\n",
      "\n",
      "For G1, number of students having...\n",
      "[['Failed', 66, '20.95%'], ['Low Pass', 130, '41.27%'], ['Med Pass', 107, '33.97%'], ['High Pass', 12, '3.81%']]\n",
      "For G2, number of students having...\n",
      "[['Failed', 61, '19.37%'], ['Low Pass', 129, '40.95%'], ['Med Pass', 110, '34.92%'], ['High Pass', 15, '4.76%']]\n",
      "For G3, number of students having...\n",
      "[['Failed', 43, '13.65%'], ['Low Pass', 128, '40.63%'], ['Med Pass', 122, '38.73%'], ['High Pass', 22, '6.98%']]\n",
      "+---------+---------+---------+\n",
      "|G1 points|G2 points|G3 points|\n",
      "+---------+---------+---------+\n",
      "|      380|      394|      438|\n",
      "+---------+---------+---------+\n",
      "\n",
      "+----------+----------+----------+\n",
      "|G1 average|G2 average|G3 average|\n",
      "+----------+----------+----------+\n",
      "|      1.21|      1.25|      1.39|\n",
      "+----------+----------+----------+\n",
      "\n"
     ]
    }
   ],
   "source": [
    "c = yes.count()\n",
    "print(\"Number of students who take extracurricular activities: \", c, \" (\", percent(c, data.count()), \")\", sep='')\n",
    "print()\n",
    "\n",
    "splitdata(yes, c)"
   ]
  },
  {
   "cell_type": "code",
   "execution_count": 38,
   "metadata": {
    "scrolled": true
   },
   "outputs": [
    {
     "name": "stdout",
     "output_type": "stream",
     "text": [
      "Number of students who do not take extracurricular activities: 334 (51.46%)\n",
      "\n",
      "For G1, number of students having...\n",
      "[['Failed', 91, '27.25%'], ['Low Pass', 138, '41.32%'], ['Med Pass', 93, '27.84%'], ['High Pass', 12, '3.59%']]\n",
      "For G2, number of students having...\n",
      "[['Failed', 84, '25.15%'], ['Low Pass', 143, '42.81%'], ['Med Pass', 87, '26.05%'], ['High Pass', 20, '5.99%']]\n",
      "For G3, number of students having...\n",
      "[['Failed', 57, '17.07%'], ['Low Pass', 145, '43.41%'], ['Med Pass', 108, '32.34%'], ['High Pass', 24, '7.19%']]\n",
      "+---------+---------+---------+\n",
      "|G1 points|G2 points|G3 points|\n",
      "+---------+---------+---------+\n",
      "|      360|      377|      433|\n",
      "+---------+---------+---------+\n",
      "\n",
      "+----------+----------+----------+\n",
      "|G1 average|G2 average|G3 average|\n",
      "+----------+----------+----------+\n",
      "|      1.08|      1.13|       1.3|\n",
      "+----------+----------+----------+\n",
      "\n"
     ]
    }
   ],
   "source": [
    "c = no.count()\n",
    "print(\"Number of students who do not take extracurricular activities: \", c, \" (\", percent(c, data.count()), \")\", sep='')\n",
    "print()\n",
    "\n",
    "splitdata(no, c)"
   ]
  },
  {
   "cell_type": "markdown",
   "metadata": {},
   "source": [
    "Students who take extracurricular activities performed better than those who don't.\n",
    "\n",
    "In fact, <a href=\"https://www.kon.org/urc/v5/fujita.html\">there have been numerous studies on the effects of extracurricular activities on academic performance</a>, and depending on the choice of extracurricular activity students take, it can positively affect academic performance as the students develop skills that aid in their academics (Fujita, 2006)."
   ]
  },
  {
   "cell_type": "markdown",
   "metadata": {},
   "source": [
    "## Part 10: Nursery School\n",
    "\n",
    "We will try to determine whether attending nursery school in the past does affect a student's grades."
   ]
  },
  {
   "cell_type": "code",
   "execution_count": 39,
   "metadata": {},
   "outputs": [],
   "source": [
    "temp = data.map(lambda y: [y[i] for i in (19, 30, 31, 32)])\n",
    "yes = temp.filter(lambda x: x[0]==1)\n",
    "no = temp.filter(lambda x: x[0]==0)"
   ]
  },
  {
   "cell_type": "code",
   "execution_count": 40,
   "metadata": {},
   "outputs": [
    {
     "name": "stdout",
     "output_type": "stream",
     "text": [
      "Number of students who attended nursery school: 521 (80.28%)\n",
      "\n",
      "For G1, number of students having...\n",
      "[['Failed', 122, '23.42%'], ['Low Pass', 212, '40.69%'], ['Med Pass', 170, '32.63%'], ['High Pass', 17, '3.26%']]\n",
      "For G2, number of students having...\n",
      "[['Failed', 112, '21.5%'], ['Low Pass', 212, '40.69%'], ['Med Pass', 170, '32.63%'], ['High Pass', 27, '5.18%']]\n",
      "For G3, number of students having...\n",
      "[['Failed', 81, '15.55%'], ['Low Pass', 209, '40.12%'], ['Med Pass', 194, '37.24%'], ['High Pass', 37, '7.1%']]\n",
      "+---------+---------+---------+\n",
      "|G1 points|G2 points|G3 points|\n",
      "+---------+---------+---------+\n",
      "|      603|      633|      708|\n",
      "+---------+---------+---------+\n",
      "\n",
      "+----------+----------+----------+\n",
      "|G1 average|G2 average|G3 average|\n",
      "+----------+----------+----------+\n",
      "|      1.16|      1.21|      1.36|\n",
      "+----------+----------+----------+\n",
      "\n"
     ]
    }
   ],
   "source": [
    "c = yes.count()\n",
    "print(\"Number of students who attended nursery school: \", c, \" (\", percent(c, data.count()), \")\", sep='')\n",
    "print()\n",
    "\n",
    "splitdata(yes, c)"
   ]
  },
  {
   "cell_type": "code",
   "execution_count": 41,
   "metadata": {
    "scrolled": true
   },
   "outputs": [
    {
     "name": "stdout",
     "output_type": "stream",
     "text": [
      "Number of students who did not attend nursery school: 128 (19.72%)\n",
      "\n",
      "For G1, number of students having...\n",
      "[['Failed', 35, '27.34%'], ['Low Pass', 56, '43.75%'], ['Med Pass', 30, '23.44%'], ['High Pass', 7, '5.47%']]\n",
      "For G2, number of students having...\n",
      "[['Failed', 33, '25.78%'], ['Low Pass', 60, '46.88%'], ['Med Pass', 27, '21.09%'], ['High Pass', 8, '6.25%']]\n",
      "For G3, number of students having...\n",
      "[['Failed', 19, '14.84%'], ['Low Pass', 64, '50.0%'], ['Med Pass', 36, '28.12%'], ['High Pass', 9, '7.03%']]\n",
      "+---------+---------+---------+\n",
      "|G1 points|G2 points|G3 points|\n",
      "+---------+---------+---------+\n",
      "|      137|      138|      163|\n",
      "+---------+---------+---------+\n",
      "\n",
      "+----------+----------+----------+\n",
      "|G1 average|G2 average|G3 average|\n",
      "+----------+----------+----------+\n",
      "|      1.07|      1.08|      1.27|\n",
      "+----------+----------+----------+\n",
      "\n"
     ]
    }
   ],
   "source": [
    "c = no.count()\n",
    "print(\"Number of students who did not attend nursery school: \", c, \" (\", percent(c, data.count()), \")\", sep='')\n",
    "print()\n",
    "\n",
    "splitdata(no, c)"
   ]
  },
  {
   "cell_type": "markdown",
   "metadata": {},
   "source": [
    "Students who attended nursery before perform better those who don't. It is believed that students who attended nursery gave developed skills that would be useful as they go through their schooling years."
   ]
  },
  {
   "cell_type": "markdown",
   "metadata": {},
   "source": [
    "## Part 11: Higher Education Plans?\n",
    "\n",
    "We will try to determine whether a student's desire to go for higher education motivates the student to do better."
   ]
  },
  {
   "cell_type": "code",
   "execution_count": 42,
   "metadata": {},
   "outputs": [],
   "source": [
    "temp = data.map(lambda y: [y[i] for i in (20, 30, 31, 32)])\n",
    "yes = temp.filter(lambda x: x[0]==1)\n",
    "no = temp.filter(lambda x: x[0]==0)"
   ]
  },
  {
   "cell_type": "code",
   "execution_count": 43,
   "metadata": {},
   "outputs": [
    {
     "name": "stdout",
     "output_type": "stream",
     "text": [
      "Number of students who want to pursue higher education: 580 (89.37%)\n",
      "\n",
      "For G1, number of students having...\n",
      "[['Failed', 106, '18.28%'], ['Low Pass', 251, '43.28%'], ['Med Pass', 199, '34.31%'], ['High Pass', 24, '4.14%']]\n",
      "For G2, number of students having...\n",
      "[['Failed', 103, '17.76%'], ['Low Pass', 248, '42.76%'], ['Med Pass', 194, '33.45%'], ['High Pass', 35, '6.03%']]\n",
      "For G3, number of students having...\n",
      "[['Failed', 67, '11.55%'], ['Low Pass', 239, '41.21%'], ['Med Pass', 228, '39.31%'], ['High Pass', 46, '7.93%']]\n",
      "+---------+---------+---------+\n",
      "|G1 points|G2 points|G3 points|\n",
      "+---------+---------+---------+\n",
      "|      721|      741|      833|\n",
      "+---------+---------+---------+\n",
      "\n",
      "+----------+----------+----------+\n",
      "|G1 average|G2 average|G3 average|\n",
      "+----------+----------+----------+\n",
      "|      1.24|      1.28|      1.44|\n",
      "+----------+----------+----------+\n",
      "\n"
     ]
    }
   ],
   "source": [
    "c = yes.count()\n",
    "print(\"Number of students who want to pursue higher education: \", c, \" (\", percent(c, data.count()), \")\", sep='')\n",
    "print()\n",
    "\n",
    "splitdata(yes, c)"
   ]
  },
  {
   "cell_type": "code",
   "execution_count": 44,
   "metadata": {
    "scrolled": true
   },
   "outputs": [
    {
     "name": "stdout",
     "output_type": "stream",
     "text": [
      "Number of students who do not want to pursue higher education: 69 (10.63%)\n",
      "\n",
      "For G1, number of students having...\n",
      "[['Failed', 51, '73.91%'], ['Low Pass', 17, '24.64%'], ['Med Pass', 1, '1.45%']]\n",
      "For G2, number of students having...\n",
      "[['Failed', 42, '60.87%'], ['Low Pass', 24, '34.78%'], ['Med Pass', 3, '4.35%']]\n",
      "For G3, number of students having...\n",
      "[['Failed', 33, '47.83%'], ['Low Pass', 34, '49.28%'], ['Med Pass', 2, '2.9%']]\n",
      "+---------+---------+---------+\n",
      "|G1 points|G2 points|G3 points|\n",
      "+---------+---------+---------+\n",
      "|       19|       30|       38|\n",
      "+---------+---------+---------+\n",
      "\n",
      "+----------+----------+----------+\n",
      "|G1 average|G2 average|G3 average|\n",
      "+----------+----------+----------+\n",
      "|      0.28|      0.43|      0.55|\n",
      "+----------+----------+----------+\n",
      "\n"
     ]
    }
   ],
   "source": [
    "c = no.count()\n",
    "print(\"Number of students who do not want to pursue higher education: \", c, \" (\", percent(c, data.count()), \")\", sep='')\n",
    "print()\n",
    "\n",
    "splitdata(no, c)"
   ]
  },
  {
   "cell_type": "markdown",
   "metadata": {},
   "source": [
    "Students who want to pursue higher education definitely score higher than those who don't want.\n",
    "\n",
    "We can tell that students who want to pursue higher education are motivated to do so, therefore, they know that they have to score well in their grades in order for them to be able to go to higher education."
   ]
  },
  {
   "cell_type": "markdown",
   "metadata": {},
   "source": [
    "## Part 12: Internet At Home\n",
    "\n",
    "We will try to determine the influence of Internet access at home on a student's grades."
   ]
  },
  {
   "cell_type": "code",
   "execution_count": 45,
   "metadata": {},
   "outputs": [],
   "source": [
    "temp = data.map(lambda y: [y[i] for i in (21, 30, 31, 32)])\n",
    "yes = temp.filter(lambda x: x[0]==1)\n",
    "no = temp.filter(lambda x: x[0]==0)"
   ]
  },
  {
   "cell_type": "code",
   "execution_count": 46,
   "metadata": {},
   "outputs": [
    {
     "name": "stdout",
     "output_type": "stream",
     "text": [
      "Number of students who have internet at home: 498 (76.73%)\n",
      "\n",
      "For G1, number of students having...\n",
      "[['Failed', 106, '21.29%'], ['Low Pass', 208, '41.77%'], ['Med Pass', 165, '33.13%'], ['High Pass', 19, '3.82%']]\n",
      "For G2, number of students having...\n",
      "[['Failed', 100, '20.08%'], ['Low Pass', 209, '41.97%'], ['Med Pass', 162, '32.53%'], ['High Pass', 27, '5.42%']]\n",
      "For G3, number of students having...\n",
      "[['Failed', 68, '13.65%'], ['Low Pass', 199, '39.96%'], ['Med Pass', 192, '38.55%'], ['High Pass', 39, '7.83%']]\n",
      "+---------+---------+---------+\n",
      "|G1 points|G2 points|G3 points|\n",
      "+---------+---------+---------+\n",
      "|      595|      614|      700|\n",
      "+---------+---------+---------+\n",
      "\n",
      "+----------+----------+----------+\n",
      "|G1 average|G2 average|G3 average|\n",
      "+----------+----------+----------+\n",
      "|      1.19|      1.23|      1.41|\n",
      "+----------+----------+----------+\n",
      "\n"
     ]
    }
   ],
   "source": [
    "c = yes.count()\n",
    "print(\"Number of students who have internet at home: \", c, \" (\", percent(c, data.count()), \")\", sep='')\n",
    "print()\n",
    "\n",
    "splitdata(yes, c)"
   ]
  },
  {
   "cell_type": "code",
   "execution_count": 47,
   "metadata": {
    "scrolled": true
   },
   "outputs": [
    {
     "name": "stdout",
     "output_type": "stream",
     "text": [
      "Number of students who do not have internet at home: 151 (23.27%)\n",
      "\n",
      "For G1, number of students having...\n",
      "[['Failed', 51, '33.77%'], ['Low Pass', 60, '39.74%'], ['Med Pass', 35, '23.18%'], ['High Pass', 5, '3.31%']]\n",
      "For G2, number of students having...\n",
      "[['Failed', 45, '29.8%'], ['Low Pass', 63, '41.72%'], ['Med Pass', 35, '23.18%'], ['High Pass', 8, '5.3%']]\n",
      "For G3, number of students having...\n",
      "[['Failed', 32, '21.19%'], ['Low Pass', 74, '49.01%'], ['Med Pass', 38, '25.17%'], ['High Pass', 7, '4.64%']]\n",
      "+---------+---------+---------+\n",
      "|G1 points|G2 points|G3 points|\n",
      "+---------+---------+---------+\n",
      "|      145|      157|      171|\n",
      "+---------+---------+---------+\n",
      "\n",
      "+----------+----------+----------+\n",
      "|G1 average|G2 average|G3 average|\n",
      "+----------+----------+----------+\n",
      "|      0.96|      1.04|      1.13|\n",
      "+----------+----------+----------+\n",
      "\n"
     ]
    }
   ],
   "source": [
    "c = no.count()\n",
    "print(\"Number of students who do not have internet at home: \", c, \" (\", percent(c, data.count()), \")\", sep='')\n",
    "print()\n",
    "\n",
    "splitdata(no, c)"
   ]
  },
  {
   "cell_type": "markdown",
   "metadata": {},
   "source": [
    "Students who have Internet at home perform better than those who don't.\n",
    "\n",
    "With the Internet, students have easier and faster access to resources and knowledge right from their home."
   ]
  },
  {
   "cell_type": "markdown",
   "metadata": {},
   "source": [
    "## Part 13: Romantic Relationships\n",
    "\n",
    "We will try to determine how romantic relationships can affect a student's grades."
   ]
  },
  {
   "cell_type": "code",
   "execution_count": 48,
   "metadata": {},
   "outputs": [],
   "source": [
    "temp = data.map(lambda y: [y[i] for i in (22, 30, 31, 32)])\n",
    "yes = temp.filter(lambda x: x[0]==1)\n",
    "no = temp.filter(lambda x: x[0]==0)"
   ]
  },
  {
   "cell_type": "code",
   "execution_count": 49,
   "metadata": {},
   "outputs": [
    {
     "name": "stdout",
     "output_type": "stream",
     "text": [
      "Number of students who are on a romantic relationship: 239 (36.83%)\n",
      "\n",
      "For G1, number of students having...\n",
      "[['Failed', 66, '27.62%'], ['Low Pass', 96, '40.17%'], ['Med Pass', 73, '30.54%'], ['High Pass', 4, '1.67%']]\n",
      "For G2, number of students having...\n",
      "[['Failed', 63, '26.36%'], ['Low Pass', 98, '41.0%'], ['Med Pass', 72, '30.13%'], ['High Pass', 6, '2.51%']]\n",
      "For G3, number of students having...\n",
      "[['Failed', 46, '19.25%'], ['Low Pass', 99, '41.42%'], ['Med Pass', 81, '33.89%'], ['High Pass', 13, '5.44%']]\n",
      "+---------+---------+---------+\n",
      "|G1 points|G2 points|G3 points|\n",
      "+---------+---------+---------+\n",
      "|      254|      260|      300|\n",
      "+---------+---------+---------+\n",
      "\n",
      "+----------+----------+----------+\n",
      "|G1 average|G2 average|G3 average|\n",
      "+----------+----------+----------+\n",
      "|      1.06|      1.09|      1.26|\n",
      "+----------+----------+----------+\n",
      "\n"
     ]
    }
   ],
   "source": [
    "c = yes.count()\n",
    "print(\"Number of students who are on a romantic relationship: \", c, \" (\", percent(c, data.count()), \")\", sep='')\n",
    "print()\n",
    "\n",
    "splitdata(yes, c)"
   ]
  },
  {
   "cell_type": "code",
   "execution_count": 50,
   "metadata": {
    "scrolled": false
   },
   "outputs": [
    {
     "name": "stdout",
     "output_type": "stream",
     "text": [
      "Number of students who are not on a romantic relationship: 410 (63.17%)\n",
      "\n",
      "For G1, number of students having...\n",
      "[['Failed', 91, '22.2%'], ['Low Pass', 172, '41.95%'], ['Med Pass', 127, '30.98%'], ['High Pass', 20, '4.88%']]\n",
      "For G2, number of students having...\n",
      "[['Failed', 82, '20.0%'], ['Low Pass', 174, '42.44%'], ['Med Pass', 125, '30.49%'], ['High Pass', 29, '7.07%']]\n",
      "For G3, number of students having...\n",
      "[['Failed', 54, '13.17%'], ['Low Pass', 174, '42.44%'], ['Med Pass', 149, '36.34%'], ['High Pass', 33, '8.05%']]\n",
      "+---------+---------+---------+\n",
      "|G1 points|G2 points|G3 points|\n",
      "+---------+---------+---------+\n",
      "|      486|      511|      571|\n",
      "+---------+---------+---------+\n",
      "\n",
      "+----------+----------+----------+\n",
      "|G1 average|G2 average|G3 average|\n",
      "+----------+----------+----------+\n",
      "|      1.19|      1.25|      1.39|\n",
      "+----------+----------+----------+\n",
      "\n"
     ]
    }
   ],
   "source": [
    "c = no.count()\n",
    "print(\"Number of students who are not on a romantic relationship: \", c, \" (\", percent(c, data.count()), \")\", sep='')\n",
    "print()\n",
    "\n",
    "splitdata(no, c)"
   ]
  },
  {
   "cell_type": "markdown",
   "metadata": {},
   "source": [
    "Students who are not on a romantic relationship perform better than those who do.\n",
    "\n",
    "There's a lot to do in a romantic relationship, and students who are in a romantic relationship will have to spend time with their partners, and unfortunately that reduces the time available for them to study."
   ]
  },
  {
   "cell_type": "markdown",
   "metadata": {},
   "source": [
    "## Part 14: Quality of Family Relationships\n",
    "\n",
    "We will try to determine how the quality of family relationships can affect a student's grades."
   ]
  },
  {
   "cell_type": "code",
   "execution_count": 51,
   "metadata": {},
   "outputs": [],
   "source": [
    "temp = data.map(lambda y: [y[i] for i in (23, 30, 31, 32)])\n",
    "\n",
    "threshold = 3\n",
    "\n",
    "high = temp.filter(lambda x: x[0]>=threshold) # good relationships\n",
    "low = temp.filter(lambda x: x[0]<threshold)   # bad relationships"
   ]
  },
  {
   "cell_type": "code",
   "execution_count": 52,
   "metadata": {},
   "outputs": [
    {
     "name": "stdout",
     "output_type": "stream",
     "text": [
      "Number of students who have good family relationships: 598 (92.14%)\n",
      "\n",
      "For G1, number of students having...\n",
      "[['Failed', 140, '23.41%'], ['Low Pass', 249, '41.64%'], ['Med Pass', 187, '31.27%'], ['High Pass', 22, '3.68%']]\n",
      "For G2, number of students having...\n",
      "[['Failed', 126, '21.07%'], ['Low Pass', 254, '42.47%'], ['Med Pass', 184, '30.77%'], ['High Pass', 34, '5.69%']]\n",
      "For G3, number of students having...\n",
      "[['Failed', 86, '14.38%'], ['Low Pass', 252, '42.14%'], ['Med Pass', 215, '35.95%'], ['High Pass', 45, '7.53%']]\n",
      "+---------+---------+---------+\n",
      "|G1 points|G2 points|G3 points|\n",
      "+---------+---------+---------+\n",
      "|      689|      724|      817|\n",
      "+---------+---------+---------+\n",
      "\n",
      "+----------+----------+----------+\n",
      "|G1 average|G2 average|G3 average|\n",
      "+----------+----------+----------+\n",
      "|      1.15|      1.21|      1.37|\n",
      "+----------+----------+----------+\n",
      "\n"
     ]
    }
   ],
   "source": [
    "c = high.count()\n",
    "print(\"Number of students who have good family relationships: \", c, \" (\", percent(c, data.count()), \")\", sep='')\n",
    "print()\n",
    "\n",
    "splitdata(high, c)"
   ]
  },
  {
   "cell_type": "code",
   "execution_count": 53,
   "metadata": {
    "scrolled": false
   },
   "outputs": [
    {
     "name": "stdout",
     "output_type": "stream",
     "text": [
      "Number of students who have bad family relationships: 51 (7.86%)\n",
      "\n",
      "For G1, number of students having...\n",
      "[['Failed', 17, '33.33%'], ['Low Pass', 19, '37.25%'], ['Med Pass', 13, '25.49%'], ['High Pass', 2, '3.92%']]\n",
      "For G2, number of students having...\n",
      "[['Failed', 19, '37.25%'], ['Low Pass', 18, '35.29%'], ['Med Pass', 13, '25.49%'], ['High Pass', 1, '1.96%']]\n",
      "For G3, number of students having...\n",
      "[['Failed', 14, '27.45%'], ['Low Pass', 21, '41.18%'], ['Med Pass', 15, '29.41%'], ['High Pass', 1, '1.96%']]\n",
      "+---------+---------+---------+\n",
      "|G1 points|G2 points|G3 points|\n",
      "+---------+---------+---------+\n",
      "|       51|       47|       54|\n",
      "+---------+---------+---------+\n",
      "\n",
      "+----------+----------+----------+\n",
      "|G1 average|G2 average|G3 average|\n",
      "+----------+----------+----------+\n",
      "|       1.0|      0.92|      1.06|\n",
      "+----------+----------+----------+\n",
      "\n"
     ]
    }
   ],
   "source": [
    "c = low.count()\n",
    "print(\"Number of students who have bad family relationships: \", c, \" (\", percent(c, data.count()), \")\", sep='')\n",
    "print()\n",
    "\n",
    "splitdata(low, c)"
   ]
  },
  {
   "cell_type": "markdown",
   "metadata": {},
   "source": [
    "Although we have a student or two who manages to score flying colors despite bad family relationships, good family relationships can be considered as a factor for better performance in academics.\n",
    "\n",
    "It is <a href=\"https://oureverydaylife.com/poor-relationships-affect-family-12300111.html\">evident</a> that students with bad family relationships can develop stress and/or health problems, which in turn affects them academically."
   ]
  },
  {
   "cell_type": "markdown",
   "metadata": {},
   "source": [
    "## Part 15: Free Time\n",
    "\n",
    "We will try to determine how the amount of free time after school can affect a student's grades."
   ]
  },
  {
   "cell_type": "code",
   "execution_count": 54,
   "metadata": {},
   "outputs": [],
   "source": [
    "temp = data.map(lambda y: [y[i] for i in (24, 30, 31, 32)])\n",
    "\n",
    "threshold = 3\n",
    "\n",
    "high = temp.filter(lambda x: x[0]>=threshold) # lots of free time\n",
    "low = temp.filter(lambda x: x[0]<threshold)   # not much free time"
   ]
  },
  {
   "cell_type": "code",
   "execution_count": 55,
   "metadata": {},
   "outputs": [
    {
     "name": "stdout",
     "output_type": "stream",
     "text": [
      "Number of students who do not have a lot of free time after school: 497 (76.58%)\n",
      "\n",
      "For G1, number of students having...\n",
      "[['Failed', 127, '25.55%'], ['Low Pass', 207, '41.65%'], ['Med Pass', 148, '29.78%'], ['High Pass', 15, '3.02%']]\n",
      "For G2, number of students having...\n",
      "[['Failed', 119, '23.94%'], ['Low Pass', 209, '42.05%'], ['Med Pass', 144, '28.97%'], ['High Pass', 25, '5.03%']]\n",
      "For G3, number of students having...\n",
      "[['Failed', 81, '16.3%'], ['Low Pass', 218, '43.86%'], ['Med Pass', 166, '33.4%'], ['High Pass', 32, '6.44%']]\n",
      "+---------+---------+---------+\n",
      "|G1 points|G2 points|G3 points|\n",
      "+---------+---------+---------+\n",
      "|      548|      572|      646|\n",
      "+---------+---------+---------+\n",
      "\n",
      "+----------+----------+----------+\n",
      "|G1 average|G2 average|G3 average|\n",
      "+----------+----------+----------+\n",
      "|       1.1|      1.15|       1.3|\n",
      "+----------+----------+----------+\n",
      "\n"
     ]
    }
   ],
   "source": [
    "c = high.count()\n",
    "print(\"Number of students who do not have a lot of free time after school: \", c, \" (\", percent(c, data.count()), \")\", sep='')\n",
    "print()\n",
    "\n",
    "splitdata(high, c)"
   ]
  },
  {
   "cell_type": "code",
   "execution_count": 56,
   "metadata": {
    "scrolled": false
   },
   "outputs": [
    {
     "name": "stdout",
     "output_type": "stream",
     "text": [
      "Number of students who have a lot of free time after school: 152 (23.42%)\n",
      "\n",
      "For G1, number of students having...\n",
      "[['Failed', 30, '19.74%'], ['Low Pass', 61, '40.13%'], ['Med Pass', 52, '34.21%'], ['High Pass', 9, '5.92%']]\n",
      "For G2, number of students having...\n",
      "[['Failed', 26, '17.11%'], ['Low Pass', 63, '41.45%'], ['Med Pass', 53, '34.87%'], ['High Pass', 10, '6.58%']]\n",
      "For G3, number of students having...\n",
      "[['Failed', 19, '12.5%'], ['Low Pass', 55, '36.18%'], ['Med Pass', 64, '42.11%'], ['High Pass', 14, '9.21%']]\n",
      "+---------+---------+---------+\n",
      "|G1 points|G2 points|G3 points|\n",
      "+---------+---------+---------+\n",
      "|      192|      199|      225|\n",
      "+---------+---------+---------+\n",
      "\n",
      "+----------+----------+----------+\n",
      "|G1 average|G2 average|G3 average|\n",
      "+----------+----------+----------+\n",
      "|      1.26|      1.31|      1.48|\n",
      "+----------+----------+----------+\n",
      "\n"
     ]
    }
   ],
   "source": [
    "c = low.count()\n",
    "print(\"Number of students who have a lot of free time after school: \", c, \" (\", percent(c, data.count()), \")\", sep='')\n",
    "print()\n",
    "\n",
    "splitdata(low, c)"
   ]
  },
  {
   "cell_type": "markdown",
   "metadata": {},
   "source": [
    "Students who do not have much free time after school perform better than those who have much free time after school.\n",
    "\n",
    "Possible hypothesis: Students who do not have much free time may probably use the time they have left for studying. However, a fraction of students who have free time do whatever they want that they forget their studies."
   ]
  },
  {
   "cell_type": "markdown",
   "metadata": {},
   "source": [
    "## Part 16: Weekly Alcohol Consumption\n",
    "\n",
    "We will try to determine how alcohol consumption can affect a student's grades.\n",
    "\n",
    "We assume:\n",
    "* weekday consists of five days, and weekend consists of two days\n",
    "* the students' alcohol consumption habits remain constant throughout the year."
   ]
  },
  {
   "cell_type": "code",
   "execution_count": 57,
   "metadata": {},
   "outputs": [],
   "source": [
    "# 26 = weekday alcohol consumption, 27 = weekend alcohol consumption\n",
    "temp = data.map(lambda y: [(y[26]*5+y[27]*2)/7, y[30], y[31], y[32]])\n",
    "\n",
    "threshold = [4, 2]\n",
    "\n",
    "high = temp.filter(lambda x: x[0]>=threshold[0])                        # high alcohol consumption\n",
    "mid = temp.filter(lambda x: x[0]<threshold[0] and x[0]>=threshold[1])   # moderate alcohol consumption\n",
    "low = temp.filter(lambda x: x[0]<threshold[1] and x[0]>1)               # low alcohol consumption\n",
    "nul = temp.filter(lambda x: x[0]==1)                                    # no alcohol consumption *at all*"
   ]
  },
  {
   "cell_type": "markdown",
   "metadata": {},
   "source": [
    "Footnote: The lowest possible value for this factor is 1, so we assume that if a student's weekly alcohol consumption is rated at 1, it means that the student does not consume alcohol at all."
   ]
  },
  {
   "cell_type": "code",
   "execution_count": 58,
   "metadata": {},
   "outputs": [
    {
     "name": "stdout",
     "output_type": "stream",
     "text": [
      "Number of students who consume a high amount of alcohol every week: 27 (4.16%)\n",
      "\n",
      "For G1, number of students having...\n",
      "[['Failed', 11, '40.74%'], ['Low Pass', 12, '44.44%'], ['Med Pass', 4, '14.81%']]\n",
      "For G2, number of students having...\n",
      "[['Failed', 6, '22.22%'], ['Low Pass', 19, '70.37%'], ['Med Pass', 2, '7.41%']]\n",
      "For G3, number of students having...\n",
      "[['Failed', 8, '29.63%'], ['Low Pass', 15, '55.56%'], ['Med Pass', 4, '14.81%']]\n",
      "+---------+---------+---------+\n",
      "|G1 points|G2 points|G3 points|\n",
      "+---------+---------+---------+\n",
      "|       20|       23|       23|\n",
      "+---------+---------+---------+\n",
      "\n",
      "+----------+----------+----------+\n",
      "|G1 average|G2 average|G3 average|\n",
      "+----------+----------+----------+\n",
      "|      0.74|      0.85|      0.85|\n",
      "+----------+----------+----------+\n",
      "\n"
     ]
    }
   ],
   "source": [
    "c = high.count()\n",
    "print(\"Number of students who consume a high amount of alcohol every week: \", c, \" (\", percent(c, data.count()), \")\", sep='')\n",
    "print()\n",
    "\n",
    "splitdata(high, c)"
   ]
  },
  {
   "cell_type": "code",
   "execution_count": 59,
   "metadata": {},
   "outputs": [
    {
     "name": "stdout",
     "output_type": "stream",
     "text": [
      "Number of students who consume a moderate amount of alcohol every week: 173 (26.66%)\n",
      "\n",
      "For G1, number of students having...\n",
      "[['Failed', 52, '30.06%'], ['Low Pass', 79, '45.66%'], ['Med Pass', 35, '20.23%'], ['High Pass', 7, '4.05%']]\n",
      "For G2, number of students having...\n",
      "[['Failed', 52, '30.06%'], ['Low Pass', 77, '44.51%'], ['Med Pass', 37, '21.39%'], ['High Pass', 7, '4.05%']]\n",
      "For G3, number of students having...\n",
      "[['Failed', 34, '19.65%'], ['Low Pass', 88, '50.87%'], ['Med Pass', 42, '24.28%'], ['High Pass', 9, '5.2%']]\n",
      "+---------+---------+---------+\n",
      "|G1 points|G2 points|G3 points|\n",
      "+---------+---------+---------+\n",
      "|      170|      172|      199|\n",
      "+---------+---------+---------+\n",
      "\n",
      "+----------+----------+----------+\n",
      "|G1 average|G2 average|G3 average|\n",
      "+----------+----------+----------+\n",
      "|      0.98|      0.99|      1.15|\n",
      "+----------+----------+----------+\n",
      "\n"
     ]
    }
   ],
   "source": [
    "c = mid.count()\n",
    "print(\"Number of students who consume a moderate amount of alcohol every week: \", c, \" (\", percent(c, data.count()), \")\", sep='')\n",
    "print()\n",
    "\n",
    "splitdata(mid, c)"
   ]
  },
  {
   "cell_type": "code",
   "execution_count": 60,
   "metadata": {
    "scrolled": false
   },
   "outputs": [
    {
     "name": "stdout",
     "output_type": "stream",
     "text": [
      "Number of students who consume a low amount of alcohol every week: 208 (32.05%)\n",
      "\n",
      "For G1, number of students having...\n",
      "[['Failed', 41, '19.71%'], ['Low Pass', 90, '43.27%'], ['Med Pass', 68, '32.69%'], ['High Pass', 9, '4.33%']]\n",
      "For G2, number of students having...\n",
      "[['Failed', 42, '20.19%'], ['Low Pass', 84, '40.38%'], ['Med Pass', 68, '32.69%'], ['High Pass', 14, '6.73%']]\n",
      "For G3, number of students having...\n",
      "[['Failed', 32, '15.38%'], ['Low Pass', 76, '36.54%'], ['Med Pass', 83, '39.9%'], ['High Pass', 17, '8.17%']]\n",
      "+---------+---------+---------+\n",
      "|G1 points|G2 points|G3 points|\n",
      "+---------+---------+---------+\n",
      "|      253|      262|      293|\n",
      "+---------+---------+---------+\n",
      "\n",
      "+----------+----------+----------+\n",
      "|G1 average|G2 average|G3 average|\n",
      "+----------+----------+----------+\n",
      "|      1.22|      1.26|      1.41|\n",
      "+----------+----------+----------+\n",
      "\n"
     ]
    }
   ],
   "source": [
    "c = low.count()\n",
    "print(\"Number of students who consume a low amount of alcohol every week: \", c, \" (\", percent(c, data.count()), \")\", sep='')\n",
    "print()\n",
    "\n",
    "splitdata(low, c)"
   ]
  },
  {
   "cell_type": "code",
   "execution_count": 61,
   "metadata": {
    "scrolled": false
   },
   "outputs": [
    {
     "name": "stdout",
     "output_type": "stream",
     "text": [
      "Number of students who do not consume alcohol at all: 241 (37.13%)\n",
      "\n",
      "For G1, number of students having...\n",
      "[['Failed', 53, '21.99%'], ['Low Pass', 87, '36.1%'], ['Med Pass', 93, '38.59%'], ['High Pass', 8, '3.32%']]\n",
      "For G2, number of students having...\n",
      "[['Failed', 45, '18.67%'], ['Low Pass', 92, '38.17%'], ['Med Pass', 90, '37.34%'], ['High Pass', 14, '5.81%']]\n",
      "For G3, number of students having...\n",
      "[['Failed', 26, '10.79%'], ['Low Pass', 94, '39.0%'], ['Med Pass', 101, '41.91%'], ['High Pass', 20, '8.3%']]\n",
      "+---------+---------+---------+\n",
      "|G1 points|G2 points|G3 points|\n",
      "+---------+---------+---------+\n",
      "|      297|      314|      356|\n",
      "+---------+---------+---------+\n",
      "\n",
      "+----------+----------+----------+\n",
      "|G1 average|G2 average|G3 average|\n",
      "+----------+----------+----------+\n",
      "|      1.23|       1.3|      1.48|\n",
      "+----------+----------+----------+\n",
      "\n"
     ]
    }
   ],
   "source": [
    "c = nul.count()\n",
    "print(\"Number of students who do not consume alcohol at all: \", c, \" (\", percent(c, data.count()), \")\", sep='')\n",
    "print()\n",
    "\n",
    "splitdata(nul, c)"
   ]
  },
  {
   "cell_type": "markdown",
   "metadata": {},
   "source": [
    "The more alcohol a student consumes every week, the worse the student performs -- alcohol affects the human body's systems and if consumed excessively, harm one's health physically and mentally. Students who consume lots of alcohol every week may not be able to think properly, and this will definitely affect their studies.\n",
    "\n",
    "Footnote: More weightage is placed on weekday alcohol consumption, because students are supposed to go to school and attend classes during the weekday -- therefore it is bad if a student has a high weekday alcohol consumption!"
   ]
  },
  {
   "cell_type": "markdown",
   "metadata": {},
   "source": [
    "## Part 17: Health Condition\n",
    "\n",
    "We will try to determine how the health condition of a student can affect a student's grades."
   ]
  },
  {
   "cell_type": "code",
   "execution_count": 62,
   "metadata": {},
   "outputs": [],
   "source": [
    "temp = data.map(lambda y: [y[i] for i in (28, 30, 31, 32)])\n",
    "\n",
    "threshold = 3\n",
    "\n",
    "high = temp.filter(lambda x: x[0]>=threshold) # good health condition\n",
    "low = temp.filter(lambda x: x[0]<threshold)   # bad health condition"
   ]
  },
  {
   "cell_type": "code",
   "execution_count": 63,
   "metadata": {},
   "outputs": [
    {
     "name": "stdout",
     "output_type": "stream",
     "text": [
      "Number of students who have good health condition: 481 (74.11%)\n",
      "\n",
      "For G1, number of students having...\n",
      "[['Failed', 116, '24.12%'], ['Low Pass', 212, '44.07%'], ['Med Pass', 136, '28.27%'], ['High Pass', 17, '3.53%']]\n",
      "For G2, number of students having...\n",
      "[['Failed', 107, '22.25%'], ['Low Pass', 221, '45.95%'], ['Med Pass', 130, '27.03%'], ['High Pass', 23, '4.78%']]\n",
      "For G3, number of students having...\n",
      "[['Failed', 74, '15.38%'], ['Low Pass', 217, '45.11%'], ['Med Pass', 158, '32.85%'], ['High Pass', 32, '6.65%']]\n",
      "+---------+---------+---------+\n",
      "|G1 points|G2 points|G3 points|\n",
      "+---------+---------+---------+\n",
      "|      535|      550|      629|\n",
      "+---------+---------+---------+\n",
      "\n",
      "+----------+----------+----------+\n",
      "|G1 average|G2 average|G3 average|\n",
      "+----------+----------+----------+\n",
      "|      1.11|      1.14|      1.31|\n",
      "+----------+----------+----------+\n",
      "\n"
     ]
    }
   ],
   "source": [
    "c = high.count()\n",
    "print(\"Number of students who have good health condition: \", c, \" (\", percent(c, data.count()), \")\", sep='')\n",
    "print()\n",
    "\n",
    "splitdata(high, c)"
   ]
  },
  {
   "cell_type": "code",
   "execution_count": 64,
   "metadata": {
    "scrolled": false
   },
   "outputs": [
    {
     "name": "stdout",
     "output_type": "stream",
     "text": [
      "Number of students who have bad health condition: 168 (25.89%)\n",
      "\n",
      "For G1, number of students having...\n",
      "[['Failed', 41, '24.4%'], ['Low Pass', 56, '33.33%'], ['Med Pass', 64, '38.1%'], ['High Pass', 7, '4.17%']]\n",
      "For G2, number of students having...\n",
      "[['Failed', 38, '22.62%'], ['Low Pass', 51, '30.36%'], ['Med Pass', 67, '39.88%'], ['High Pass', 12, '7.14%']]\n",
      "For G3, number of students having...\n",
      "[['Failed', 26, '15.48%'], ['Low Pass', 56, '33.33%'], ['Med Pass', 72, '42.86%'], ['High Pass', 14, '8.33%']]\n",
      "+---------+---------+---------+\n",
      "|G1 points|G2 points|G3 points|\n",
      "+---------+---------+---------+\n",
      "|      205|      221|      242|\n",
      "+---------+---------+---------+\n",
      "\n",
      "+----------+----------+----------+\n",
      "|G1 average|G2 average|G3 average|\n",
      "+----------+----------+----------+\n",
      "|      1.22|      1.32|      1.44|\n",
      "+----------+----------+----------+\n",
      "\n"
     ]
    }
   ],
   "source": [
    "c = low.count()\n",
    "print(\"Number of students who have bad health condition: \", c, \" (\", percent(c, data.count()), \")\", sep='')\n",
    "print()\n",
    "\n",
    "splitdata(low, c)"
   ]
  },
  {
   "cell_type": "markdown",
   "metadata": {},
   "source": [
    "Based on average, we can find that students with bad health condition generally perform better than those with good health condition.\n",
    "\n",
    "Possible hypothesis: Sleep is an important factor in human health, and <a href=\"https://www.livescience.com/55021-sleep-school-age-kids.html\">high school students tend to sleep less because of numerous demands, including academic demands</a>. This may contibute to poor health condition among some students."
   ]
  },
  {
   "cell_type": "markdown",
   "metadata": {},
   "source": [
    "## Part 18: Absences\n",
    "\n",
    "We will try to determine how the number of absent days can affect a student's grades."
   ]
  },
  {
   "cell_type": "code",
   "execution_count": 65,
   "metadata": {},
   "outputs": [],
   "source": [
    "temp = data.map(lambda y: [y[i] for i in (29, 30, 31, 32)])\n",
    "\n",
    "threshold = [25, 13]\n",
    "\n",
    "high = temp.filter(lambda x: x[0]>=threshold[0])                        # high amount of absent days (>= 25 days)\n",
    "mid = temp.filter(lambda x: x[0]<threshold[0] and x[0]>=threshold[1])   # medium amount of absent days (>= 13 days)\n",
    "low = temp.filter(lambda x: x[0]<threshold[1] and x[0]>0)               # low amount of absent days\n",
    "nul = temp.filter(lambda x: x[0]==0)                                    # no absences"
   ]
  },
  {
   "cell_type": "code",
   "execution_count": 66,
   "metadata": {},
   "outputs": [
    {
     "name": "stdout",
     "output_type": "stream",
     "text": [
      "Number of students who have a high amount of absent days: 3 (0.46%)\n",
      "\n",
      "For G1, number of students having...\n",
      "[['Failed', 1, '33.33%'], ['Med Pass', 2, '66.67%']]\n",
      "For G2, number of students having...\n",
      "[['Failed', 1, '33.33%'], ['Med Pass', 2, '66.67%']]\n",
      "For G3, number of students having...\n",
      "[['Failed', 1, '33.33%'], ['Med Pass', 2, '66.67%']]\n",
      "+---------+---------+---------+\n",
      "|G1 points|G2 points|G3 points|\n",
      "+---------+---------+---------+\n",
      "|        4|        4|        4|\n",
      "+---------+---------+---------+\n",
      "\n",
      "+----------+----------+----------+\n",
      "|G1 average|G2 average|G3 average|\n",
      "+----------+----------+----------+\n",
      "|      1.33|      1.33|      1.33|\n",
      "+----------+----------+----------+\n",
      "\n"
     ]
    }
   ],
   "source": [
    "c = high.count()\n",
    "print(\"Number of students who have a high amount of absent days: \", c, \" (\", percent(c, data.count()), \")\", sep='')\n",
    "print()\n",
    "\n",
    "splitdata(high, c)"
   ]
  },
  {
   "cell_type": "code",
   "execution_count": 67,
   "metadata": {},
   "outputs": [
    {
     "data": {
      "text/plain": [
       "[[32, 2, 2, 2], [30, 2, 2, 2], [26, 0, 0, 0]]"
      ]
     },
     "execution_count": 67,
     "metadata": {},
     "output_type": "execute_result"
    }
   ],
   "source": [
    "high.collect() # try to collect the three students' data with high amount of absent days"
   ]
  },
  {
   "cell_type": "code",
   "execution_count": 68,
   "metadata": {},
   "outputs": [
    {
     "name": "stdout",
     "output_type": "stream",
     "text": [
      "Number of students who have a medium amount of absent days: 29 (4.47%)\n",
      "\n",
      "For G1, number of students having...\n",
      "[['Failed', 10, '34.48%'], ['Low Pass', 14, '48.28%'], ['Med Pass', 5, '17.24%']]\n",
      "For G2, number of students having...\n",
      "[['Failed', 11, '37.93%'], ['Low Pass', 14, '48.28%'], ['Med Pass', 4, '13.79%']]\n",
      "For G3, number of students having...\n",
      "[['Failed', 7, '24.14%'], ['Low Pass', 17, '58.62%'], ['Med Pass', 4, '13.79%'], ['High Pass', 1, '3.45%']]\n",
      "+---------+---------+---------+\n",
      "|G1 points|G2 points|G3 points|\n",
      "+---------+---------+---------+\n",
      "|       24|       22|       28|\n",
      "+---------+---------+---------+\n",
      "\n",
      "+----------+----------+----------+\n",
      "|G1 average|G2 average|G3 average|\n",
      "+----------+----------+----------+\n",
      "|      0.83|      0.76|      0.97|\n",
      "+----------+----------+----------+\n",
      "\n"
     ]
    }
   ],
   "source": [
    "c = mid.count()\n",
    "print(\"Number of students who have a medium amount of absent days: \", c, \" (\", percent(c, data.count()), \")\", sep='')\n",
    "print()\n",
    "\n",
    "splitdata(mid, c)"
   ]
  },
  {
   "cell_type": "code",
   "execution_count": 69,
   "metadata": {
    "scrolled": false
   },
   "outputs": [
    {
     "name": "stdout",
     "output_type": "stream",
     "text": [
      "Number of students who have a low amount of absent days: 373 (57.47%)\n",
      "\n",
      "For G1, number of students having...\n",
      "[['Failed', 101, '27.08%'], ['Low Pass', 157, '42.09%'], ['Med Pass', 108, '28.95%'], ['High Pass', 7, '1.88%']]\n",
      "For G2, number of students having...\n",
      "[['Failed', 91, '24.4%'], ['Low Pass', 161, '43.16%'], ['Med Pass', 110, '29.49%'], ['High Pass', 11, '2.95%']]\n",
      "For G3, number of students having...\n",
      "[['Failed', 58, '15.55%'], ['Low Pass', 171, '45.84%'], ['Med Pass', 124, '33.24%'], ['High Pass', 20, '5.36%']]\n",
      "+---------+---------+---------+\n",
      "|G1 points|G2 points|G3 points|\n",
      "+---------+---------+---------+\n",
      "|      394|      414|      479|\n",
      "+---------+---------+---------+\n",
      "\n",
      "+----------+----------+----------+\n",
      "|G1 average|G2 average|G3 average|\n",
      "+----------+----------+----------+\n",
      "|      1.06|      1.11|      1.28|\n",
      "+----------+----------+----------+\n",
      "\n"
     ]
    }
   ],
   "source": [
    "c = low.count()\n",
    "print(\"Number of students who have a low amount of absent days: \", c, \" (\", percent(c, data.count()), \")\", sep='')\n",
    "print()\n",
    "\n",
    "splitdata(low, c)"
   ]
  },
  {
   "cell_type": "code",
   "execution_count": 70,
   "metadata": {
    "scrolled": false
   },
   "outputs": [
    {
     "name": "stdout",
     "output_type": "stream",
     "text": [
      "Number of students who are never absent: 244 (37.6%)\n",
      "\n",
      "For G1, number of students having...\n",
      "[['Failed', 45, '18.44%'], ['Low Pass', 97, '39.75%'], ['Med Pass', 85, '34.84%'], ['High Pass', 17, '6.97%']]\n",
      "For G2, number of students having...\n",
      "[['Failed', 42, '17.21%'], ['Low Pass', 97, '39.75%'], ['Med Pass', 81, '33.2%'], ['High Pass', 24, '9.84%']]\n",
      "For G3, number of students having...\n",
      "[['Failed', 34, '13.93%'], ['Low Pass', 85, '34.84%'], ['Med Pass', 100, '40.98%'], ['High Pass', 25, '10.25%']]\n",
      "+---------+---------+---------+\n",
      "|G1 points|G2 points|G3 points|\n",
      "+---------+---------+---------+\n",
      "|      318|      331|      360|\n",
      "+---------+---------+---------+\n",
      "\n",
      "+----------+----------+----------+\n",
      "|G1 average|G2 average|G3 average|\n",
      "+----------+----------+----------+\n",
      "|       1.3|      1.36|      1.48|\n",
      "+----------+----------+----------+\n",
      "\n"
     ]
    }
   ],
   "source": [
    "c = nul.count()\n",
    "print(\"Number of students who are never absent: \", c, \" (\", percent(c, data.count()), \")\", sep='')\n",
    "print()\n",
    "\n",
    "splitdata(nul, c)"
   ]
  },
  {
   "cell_type": "markdown",
   "metadata": {},
   "source": [
    "<a href=\"https://www.attendanceworks.org/chronic-absence/the-problem/10-facts-about-school-attendance/\">Theory: Students with chronic absence records tend to perform worse than those with lighter absence records or those with no absence records.</a>\n",
    "\n",
    "Although it is true that students with worse absence records score lower average grades, there are 3 students whose number of absent days are considered high; however the average grade for these three students are almost the same as those without absences, despite one of the three students failing.\n",
    "\n",
    "Possible reasons:\n",
    "* The student with a high amount of absent days may be a public figure or a professional athlete\n",
    "* The student with a high amount of absent days may have a major event in life that resulted in that student's absence for many days"
   ]
  },
  {
   "cell_type": "markdown",
   "metadata": {},
   "source": [
    "## Conclusions and Future Work\n",
    "\n",
    "There are many factors which affect students' academic performance.\n",
    "Since we have 33 attributes in the dataset, we can dig out a lot of information regarding students' performance.\n",
    "In order for students to perform well academically, students have to be in perfect condition -- physically and mentally.\n",
    "\n",
    "Possible future work: If we have the data like this regarding students in Taiwan, we can use that and figure out the factors that affect students in Taiwan."
   ]
  },
  {
   "cell_type": "markdown",
   "metadata": {},
   "source": [
    "## References\n",
    "\n",
    "### Dataset\n",
    "Student Performance Data Set by Paulo Cortez, University of Minho, Portugal. Retrieved from<br>\n",
    "https://archive.ics.uci.edu/ml/datasets/student%2Bperformance\n",
    "\n",
    "### Other information\n",
    "* Fujita, K. (2006). The Effects of Extracurricular Activities on the Academic Performance of Junior High Students. Undergraduate Research Journal for the Human Sciences, 5.<br>\n",
    "https://www.kon.org/urc/v5/fujita.html\n",
    "* How Poor Relationships Affect the Family. Retrieved from<br>\n",
    "https://oureverydaylife.com/poor-relationships-affect-family-12300111.html\n",
    "* 10 Facts About School Attendance. Retrieved from<br>\n",
    "https://www.attendanceworks.org/chronic-absence/the-problem/10-facts-about-school-attendance/"
   ]
  },
  {
   "cell_type": "code",
   "execution_count": null,
   "metadata": {},
   "outputs": [],
   "source": []
  }
 ],
 "metadata": {
  "kernelspec": {
   "display_name": "Python 3",
   "language": "python",
   "name": "python3"
  },
  "language_info": {
   "codemirror_mode": {
    "name": "ipython",
    "version": 3
   },
   "file_extension": ".py",
   "mimetype": "text/x-python",
   "name": "python",
   "nbconvert_exporter": "python",
   "pygments_lexer": "ipython3",
   "version": "3.6.3"
  }
 },
 "nbformat": 4,
 "nbformat_minor": 4
}
